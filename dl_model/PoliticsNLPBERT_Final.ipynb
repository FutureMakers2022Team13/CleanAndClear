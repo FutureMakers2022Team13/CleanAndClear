{
  "cells": [
    {
      "cell_type": "markdown",
      "source": [
        "![BERT (from sesame street)](data:image/jpeg;base64,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)\n",
        "\n",
        "Bert (from sesame street)"
      ],
      "metadata": {
        "id": "EgWyPBLklDhD"
      }
    },
    {
      "cell_type": "markdown",
      "source": [
        "\n",
        "---\n",
        "\n",
        "# Prepping Packages:\n",
        "\n",
        "---"
      ],
      "metadata": {
        "id": "5aMqL1athTZd"
      }
    },
    {
      "cell_type": "code",
      "execution_count": null,
      "metadata": {
        "colab": {
          "base_uri": "https://localhost:8080/"
        },
        "id": "JRyYE_TbP6D2",
        "outputId": "0e69ee98-50d9-44b2-afd7-076a7ec39f28"
      },
      "outputs": [
        {
          "output_type": "stream",
          "name": "stdout",
          "text": [
            "Looking in indexes: https://pypi.org/simple, https://us-python.pkg.dev/colab-wheels/public/simple/\n",
            "Collecting transformers\n",
            "  Downloading transformers-4.21.1-py3-none-any.whl (4.7 MB)\n",
            "\u001b[K     |████████████████████████████████| 4.7 MB 7.4 MB/s \n",
            "\u001b[?25hCollecting pyyaml>=5.1\n",
            "  Downloading PyYAML-6.0-cp37-cp37m-manylinux_2_5_x86_64.manylinux1_x86_64.manylinux_2_12_x86_64.manylinux2010_x86_64.whl (596 kB)\n",
            "\u001b[K     |████████████████████████████████| 596 kB 32.0 MB/s \n",
            "\u001b[?25hCollecting tokenizers!=0.11.3,<0.13,>=0.11.1\n",
            "  Downloading tokenizers-0.12.1-cp37-cp37m-manylinux_2_12_x86_64.manylinux2010_x86_64.whl (6.6 MB)\n",
            "\u001b[K     |████████████████████████████████| 6.6 MB 10.2 MB/s \n",
            "\u001b[?25hRequirement already satisfied: filelock in /usr/local/lib/python3.7/dist-packages (from transformers) (3.7.1)\n",
            "Requirement already satisfied: regex!=2019.12.17 in /usr/local/lib/python3.7/dist-packages (from transformers) (2022.6.2)\n",
            "Requirement already satisfied: importlib-metadata in /usr/local/lib/python3.7/dist-packages (from transformers) (4.12.0)\n",
            "Requirement already satisfied: packaging>=20.0 in /usr/local/lib/python3.7/dist-packages (from transformers) (21.3)\n",
            "Requirement already satisfied: numpy>=1.17 in /usr/local/lib/python3.7/dist-packages (from transformers) (1.21.6)\n",
            "Requirement already satisfied: tqdm>=4.27 in /usr/local/lib/python3.7/dist-packages (from transformers) (4.64.0)\n",
            "Requirement already satisfied: requests in /usr/local/lib/python3.7/dist-packages (from transformers) (2.23.0)\n",
            "Collecting huggingface-hub<1.0,>=0.1.0\n",
            "  Downloading huggingface_hub-0.8.1-py3-none-any.whl (101 kB)\n",
            "\u001b[K     |████████████████████████████████| 101 kB 6.3 MB/s \n",
            "\u001b[?25hRequirement already satisfied: typing-extensions>=3.7.4.3 in /usr/local/lib/python3.7/dist-packages (from huggingface-hub<1.0,>=0.1.0->transformers) (4.1.1)\n",
            "Requirement already satisfied: pyparsing!=3.0.5,>=2.0.2 in /usr/local/lib/python3.7/dist-packages (from packaging>=20.0->transformers) (3.0.9)\n",
            "Requirement already satisfied: zipp>=0.5 in /usr/local/lib/python3.7/dist-packages (from importlib-metadata->transformers) (3.8.1)\n",
            "Requirement already satisfied: idna<3,>=2.5 in /usr/local/lib/python3.7/dist-packages (from requests->transformers) (2.10)\n",
            "Requirement already satisfied: certifi>=2017.4.17 in /usr/local/lib/python3.7/dist-packages (from requests->transformers) (2022.6.15)\n",
            "Requirement already satisfied: chardet<4,>=3.0.2 in /usr/local/lib/python3.7/dist-packages (from requests->transformers) (3.0.4)\n",
            "Requirement already satisfied: urllib3!=1.25.0,!=1.25.1,<1.26,>=1.21.1 in /usr/local/lib/python3.7/dist-packages (from requests->transformers) (1.24.3)\n",
            "Installing collected packages: pyyaml, tokenizers, huggingface-hub, transformers\n",
            "  Attempting uninstall: pyyaml\n",
            "    Found existing installation: PyYAML 3.13\n",
            "    Uninstalling PyYAML-3.13:\n",
            "      Successfully uninstalled PyYAML-3.13\n",
            "Successfully installed huggingface-hub-0.8.1 pyyaml-6.0 tokenizers-0.12.1 transformers-4.21.1\n",
            "Looking in indexes: https://pypi.org/simple, https://us-python.pkg.dev/colab-wheels/public/simple/\n",
            "Collecting tensorflow-text\n",
            "  Downloading tensorflow_text-2.9.0-cp37-cp37m-manylinux_2_17_x86_64.manylinux2014_x86_64.whl (4.6 MB)\n",
            "\u001b[K     |████████████████████████████████| 4.6 MB 7.9 MB/s \n",
            "\u001b[?25hRequirement already satisfied: tensorflow-hub>=0.8.0 in /usr/local/lib/python3.7/dist-packages (from tensorflow-text) (0.12.0)\n",
            "Collecting tensorflow<2.10,>=2.9.0\n",
            "  Downloading tensorflow-2.9.1-cp37-cp37m-manylinux_2_17_x86_64.manylinux2014_x86_64.whl (511.7 MB)\n",
            "\u001b[K     |████████████████████████████████| 511.7 MB 6.3 kB/s \n",
            "\u001b[?25hRequirement already satisfied: absl-py>=1.0.0 in /usr/local/lib/python3.7/dist-packages (from tensorflow<2.10,>=2.9.0->tensorflow-text) (1.2.0)\n",
            "Requirement already satisfied: h5py>=2.9.0 in /usr/local/lib/python3.7/dist-packages (from tensorflow<2.10,>=2.9.0->tensorflow-text) (3.1.0)\n",
            "Requirement already satisfied: grpcio<2.0,>=1.24.3 in /usr/local/lib/python3.7/dist-packages (from tensorflow<2.10,>=2.9.0->tensorflow-text) (1.47.0)\n",
            "Requirement already satisfied: six>=1.12.0 in /usr/local/lib/python3.7/dist-packages (from tensorflow<2.10,>=2.9.0->tensorflow-text) (1.15.0)\n",
            "Collecting tensorboard<2.10,>=2.9\n",
            "  Downloading tensorboard-2.9.1-py3-none-any.whl (5.8 MB)\n",
            "\u001b[K     |████████████████████████████████| 5.8 MB 35.3 MB/s \n",
            "\u001b[?25hRequirement already satisfied: google-pasta>=0.1.1 in /usr/local/lib/python3.7/dist-packages (from tensorflow<2.10,>=2.9.0->tensorflow-text) (0.2.0)\n",
            "Requirement already satisfied: termcolor>=1.1.0 in /usr/local/lib/python3.7/dist-packages (from tensorflow<2.10,>=2.9.0->tensorflow-text) (1.1.0)\n",
            "Requirement already satisfied: libclang>=13.0.0 in /usr/local/lib/python3.7/dist-packages (from tensorflow<2.10,>=2.9.0->tensorflow-text) (14.0.6)\n",
            "Collecting gast<=0.4.0,>=0.2.1\n",
            "  Downloading gast-0.4.0-py3-none-any.whl (9.8 kB)\n",
            "Collecting keras<2.10.0,>=2.9.0rc0\n",
            "  Downloading keras-2.9.0-py2.py3-none-any.whl (1.6 MB)\n",
            "\u001b[K     |████████████████████████████████| 1.6 MB 37.1 MB/s \n",
            "\u001b[?25hRequirement already satisfied: wrapt>=1.11.0 in /usr/local/lib/python3.7/dist-packages (from tensorflow<2.10,>=2.9.0->tensorflow-text) (1.14.1)\n",
            "Requirement already satisfied: keras-preprocessing>=1.1.1 in /usr/local/lib/python3.7/dist-packages (from tensorflow<2.10,>=2.9.0->tensorflow-text) (1.1.2)\n",
            "Requirement already satisfied: protobuf<3.20,>=3.9.2 in /usr/local/lib/python3.7/dist-packages (from tensorflow<2.10,>=2.9.0->tensorflow-text) (3.17.3)\n",
            "Requirement already satisfied: numpy>=1.20 in /usr/local/lib/python3.7/dist-packages (from tensorflow<2.10,>=2.9.0->tensorflow-text) (1.21.6)\n",
            "Requirement already satisfied: astunparse>=1.6.0 in /usr/local/lib/python3.7/dist-packages (from tensorflow<2.10,>=2.9.0->tensorflow-text) (1.6.3)\n",
            "Requirement already satisfied: opt-einsum>=2.3.2 in /usr/local/lib/python3.7/dist-packages (from tensorflow<2.10,>=2.9.0->tensorflow-text) (3.3.0)\n",
            "Requirement already satisfied: setuptools in /usr/local/lib/python3.7/dist-packages (from tensorflow<2.10,>=2.9.0->tensorflow-text) (57.4.0)\n",
            "Requirement already satisfied: tensorflow-io-gcs-filesystem>=0.23.1 in /usr/local/lib/python3.7/dist-packages (from tensorflow<2.10,>=2.9.0->tensorflow-text) (0.26.0)\n",
            "Collecting flatbuffers<2,>=1.12\n",
            "  Downloading flatbuffers-1.12-py2.py3-none-any.whl (15 kB)\n",
            "Requirement already satisfied: packaging in /usr/local/lib/python3.7/dist-packages (from tensorflow<2.10,>=2.9.0->tensorflow-text) (21.3)\n",
            "Requirement already satisfied: typing-extensions>=3.6.6 in /usr/local/lib/python3.7/dist-packages (from tensorflow<2.10,>=2.9.0->tensorflow-text) (4.1.1)\n",
            "Collecting tensorflow-estimator<2.10.0,>=2.9.0rc0\n",
            "  Downloading tensorflow_estimator-2.9.0-py2.py3-none-any.whl (438 kB)\n",
            "\u001b[K     |████████████████████████████████| 438 kB 72.8 MB/s \n",
            "\u001b[?25hRequirement already satisfied: wheel<1.0,>=0.23.0 in /usr/local/lib/python3.7/dist-packages (from astunparse>=1.6.0->tensorflow<2.10,>=2.9.0->tensorflow-text) (0.37.1)\n",
            "Requirement already satisfied: cached-property in /usr/local/lib/python3.7/dist-packages (from h5py>=2.9.0->tensorflow<2.10,>=2.9.0->tensorflow-text) (1.5.2)\n",
            "Requirement already satisfied: requests<3,>=2.21.0 in /usr/local/lib/python3.7/dist-packages (from tensorboard<2.10,>=2.9->tensorflow<2.10,>=2.9.0->tensorflow-text) (2.23.0)\n",
            "Requirement already satisfied: google-auth<3,>=1.6.3 in /usr/local/lib/python3.7/dist-packages (from tensorboard<2.10,>=2.9->tensorflow<2.10,>=2.9.0->tensorflow-text) (1.35.0)\n",
            "Requirement already satisfied: werkzeug>=1.0.1 in /usr/local/lib/python3.7/dist-packages (from tensorboard<2.10,>=2.9->tensorflow<2.10,>=2.9.0->tensorflow-text) (1.0.1)\n",
            "Requirement already satisfied: google-auth-oauthlib<0.5,>=0.4.1 in /usr/local/lib/python3.7/dist-packages (from tensorboard<2.10,>=2.9->tensorflow<2.10,>=2.9.0->tensorflow-text) (0.4.6)\n",
            "Requirement already satisfied: tensorboard-plugin-wit>=1.6.0 in /usr/local/lib/python3.7/dist-packages (from tensorboard<2.10,>=2.9->tensorflow<2.10,>=2.9.0->tensorflow-text) (1.8.1)\n",
            "Requirement already satisfied: tensorboard-data-server<0.7.0,>=0.6.0 in /usr/local/lib/python3.7/dist-packages (from tensorboard<2.10,>=2.9->tensorflow<2.10,>=2.9.0->tensorflow-text) (0.6.1)\n",
            "Requirement already satisfied: markdown>=2.6.8 in /usr/local/lib/python3.7/dist-packages (from tensorboard<2.10,>=2.9->tensorflow<2.10,>=2.9.0->tensorflow-text) (3.4.1)\n",
            "Requirement already satisfied: cachetools<5.0,>=2.0.0 in /usr/local/lib/python3.7/dist-packages (from google-auth<3,>=1.6.3->tensorboard<2.10,>=2.9->tensorflow<2.10,>=2.9.0->tensorflow-text) (4.2.4)\n",
            "Requirement already satisfied: rsa<5,>=3.1.4 in /usr/local/lib/python3.7/dist-packages (from google-auth<3,>=1.6.3->tensorboard<2.10,>=2.9->tensorflow<2.10,>=2.9.0->tensorflow-text) (4.9)\n",
            "Requirement already satisfied: pyasn1-modules>=0.2.1 in /usr/local/lib/python3.7/dist-packages (from google-auth<3,>=1.6.3->tensorboard<2.10,>=2.9->tensorflow<2.10,>=2.9.0->tensorflow-text) (0.2.8)\n",
            "Requirement already satisfied: requests-oauthlib>=0.7.0 in /usr/local/lib/python3.7/dist-packages (from google-auth-oauthlib<0.5,>=0.4.1->tensorboard<2.10,>=2.9->tensorflow<2.10,>=2.9.0->tensorflow-text) (1.3.1)\n",
            "Requirement already satisfied: importlib-metadata>=4.4 in /usr/local/lib/python3.7/dist-packages (from markdown>=2.6.8->tensorboard<2.10,>=2.9->tensorflow<2.10,>=2.9.0->tensorflow-text) (4.12.0)\n",
            "Requirement already satisfied: zipp>=0.5 in /usr/local/lib/python3.7/dist-packages (from importlib-metadata>=4.4->markdown>=2.6.8->tensorboard<2.10,>=2.9->tensorflow<2.10,>=2.9.0->tensorflow-text) (3.8.1)\n",
            "Requirement already satisfied: pyasn1<0.5.0,>=0.4.6 in /usr/local/lib/python3.7/dist-packages (from pyasn1-modules>=0.2.1->google-auth<3,>=1.6.3->tensorboard<2.10,>=2.9->tensorflow<2.10,>=2.9.0->tensorflow-text) (0.4.8)\n",
            "Requirement already satisfied: urllib3!=1.25.0,!=1.25.1,<1.26,>=1.21.1 in /usr/local/lib/python3.7/dist-packages (from requests<3,>=2.21.0->tensorboard<2.10,>=2.9->tensorflow<2.10,>=2.9.0->tensorflow-text) (1.24.3)\n",
            "Requirement already satisfied: idna<3,>=2.5 in /usr/local/lib/python3.7/dist-packages (from requests<3,>=2.21.0->tensorboard<2.10,>=2.9->tensorflow<2.10,>=2.9.0->tensorflow-text) (2.10)\n",
            "Requirement already satisfied: certifi>=2017.4.17 in /usr/local/lib/python3.7/dist-packages (from requests<3,>=2.21.0->tensorboard<2.10,>=2.9->tensorflow<2.10,>=2.9.0->tensorflow-text) (2022.6.15)\n",
            "Requirement already satisfied: chardet<4,>=3.0.2 in /usr/local/lib/python3.7/dist-packages (from requests<3,>=2.21.0->tensorboard<2.10,>=2.9->tensorflow<2.10,>=2.9.0->tensorflow-text) (3.0.4)\n",
            "Requirement already satisfied: oauthlib>=3.0.0 in /usr/local/lib/python3.7/dist-packages (from requests-oauthlib>=0.7.0->google-auth-oauthlib<0.5,>=0.4.1->tensorboard<2.10,>=2.9->tensorflow<2.10,>=2.9.0->tensorflow-text) (3.2.0)\n",
            "Requirement already satisfied: pyparsing!=3.0.5,>=2.0.2 in /usr/local/lib/python3.7/dist-packages (from packaging->tensorflow<2.10,>=2.9.0->tensorflow-text) (3.0.9)\n",
            "Installing collected packages: tensorflow-estimator, tensorboard, keras, gast, flatbuffers, tensorflow, tensorflow-text\n",
            "  Attempting uninstall: tensorflow-estimator\n",
            "    Found existing installation: tensorflow-estimator 2.8.0\n",
            "    Uninstalling tensorflow-estimator-2.8.0:\n",
            "      Successfully uninstalled tensorflow-estimator-2.8.0\n",
            "  Attempting uninstall: tensorboard\n",
            "    Found existing installation: tensorboard 2.8.0\n",
            "    Uninstalling tensorboard-2.8.0:\n",
            "      Successfully uninstalled tensorboard-2.8.0\n",
            "  Attempting uninstall: keras\n",
            "    Found existing installation: keras 2.8.0\n",
            "    Uninstalling keras-2.8.0:\n",
            "      Successfully uninstalled keras-2.8.0\n",
            "  Attempting uninstall: gast\n",
            "    Found existing installation: gast 0.5.3\n",
            "    Uninstalling gast-0.5.3:\n",
            "      Successfully uninstalled gast-0.5.3\n",
            "  Attempting uninstall: flatbuffers\n",
            "    Found existing installation: flatbuffers 2.0\n",
            "    Uninstalling flatbuffers-2.0:\n",
            "      Successfully uninstalled flatbuffers-2.0\n",
            "  Attempting uninstall: tensorflow\n",
            "    Found existing installation: tensorflow 2.8.2+zzzcolab20220719082949\n",
            "    Uninstalling tensorflow-2.8.2+zzzcolab20220719082949:\n",
            "      Successfully uninstalled tensorflow-2.8.2+zzzcolab20220719082949\n",
            "Successfully installed flatbuffers-1.12 gast-0.4.0 keras-2.9.0 tensorboard-2.9.1 tensorflow-2.9.1 tensorflow-estimator-2.9.0 tensorflow-text-2.9.0\n"
          ]
        }
      ],
      "source": [
        "!pip install transformers\n",
        "!pip install -U tensorflow-text"
      ]
    },
    {
      "cell_type": "code",
      "execution_count": null,
      "metadata": {
        "id": "mnAGFlRfnngD",
        "colab": {
          "base_uri": "https://localhost:8080/"
        },
        "outputId": "129906bb-0c1d-446f-8821-29e57a834119"
      },
      "outputs": [
        {
          "output_type": "stream",
          "name": "stderr",
          "text": [
            "[nltk_data] Downloading package stopwords to /root/nltk_data...\n",
            "[nltk_data]   Unzipping corpora/stopwords.zip.\n"
          ]
        }
      ],
      "source": [
        "import tensorflow as tf\n",
        "import numpy as np\n",
        "import nltk\n",
        "nltk.download(\"stopwords\")\n",
        "import matplotlib.pyplot as plt\n",
        "import pandas as pd\n",
        "import sklearn\n",
        "import os\n",
        "import json\n",
        "import string\n",
        "import zipfile\n",
        "import shutil"
      ]
    },
    {
      "cell_type": "markdown",
      "source": [
        "---\n",
        "\n",
        "# Data Setup:\n",
        "\n",
        "---\n"
      ],
      "metadata": {
        "id": "IX-gZJE5haJ-"
      }
    },
    {
      "cell_type": "code",
      "execution_count": null,
      "metadata": {
        "id": "gntLsIBYoZjA",
        "colab": {
          "base_uri": "https://localhost:8080/"
        },
        "outputId": "09190a38-15cf-46a2-a22d-c2f3996287c8"
      },
      "outputs": [
        {
          "output_type": "stream",
          "name": "stdout",
          "text": [
            "--2022-08-11 01:07:10--  https://docs.google.com/uc?export=download&id=1H-IMIUDSM7Y-jPjo8skbcxNBBGovbiLL\n",
            "Resolving docs.google.com (docs.google.com)... 74.125.197.139, 74.125.197.100, 74.125.197.102, ...\n",
            "Connecting to docs.google.com (docs.google.com)|74.125.197.139|:443... connected.\n",
            "HTTP request sent, awaiting response... 303 See Other\n",
            "Location: https://doc-14-08-docs.googleusercontent.com/docs/securesc/ha0ro937gcuc7l7deffksulhg5h7mbp1/62va3ftcjldmagjfmdgl4ojqmphcn11b/1660180050000/07524398318767206543/*/1H-IMIUDSM7Y-jPjo8skbcxNBBGovbiLL?e=download&uuid=c05f46b5-3261-480e-8be9-38e6dd737032 [following]\n",
            "Warning: wildcards not supported in HTTP.\n",
            "--2022-08-11 01:07:39--  https://doc-14-08-docs.googleusercontent.com/docs/securesc/ha0ro937gcuc7l7deffksulhg5h7mbp1/62va3ftcjldmagjfmdgl4ojqmphcn11b/1660180050000/07524398318767206543/*/1H-IMIUDSM7Y-jPjo8skbcxNBBGovbiLL?e=download&uuid=c05f46b5-3261-480e-8be9-38e6dd737032\n",
            "Resolving doc-14-08-docs.googleusercontent.com (doc-14-08-docs.googleusercontent.com)... 74.125.142.132, 2607:f8b0:400e:c08::84\n",
            "Connecting to doc-14-08-docs.googleusercontent.com (doc-14-08-docs.googleusercontent.com)|74.125.142.132|:443... connected.\n",
            "HTTP request sent, awaiting response... 200 OK\n",
            "Length: 9544339 (9.1M) [text/csv]\n",
            "Saving to: ‘balanced_labelled_news_data_w_text.csv’\n",
            "\n",
            "balanced_labelled_n 100%[===================>]   9.10M  50.2MB/s    in 0.2s    \n",
            "\n",
            "2022-08-11 01:07:40 (50.2 MB/s) - ‘balanced_labelled_news_data_w_text.csv’ saved [9544339/9544339]\n",
            "\n"
          ]
        }
      ],
      "source": [
        "!wget \"https://docs.google.com/uc?export=download&id=1H-IMIUDSM7Y-jPjo8skbcxNBBGovbiLL\" -O \"balanced_labelled_news_data_w_text.csv\""
      ]
    },
    {
      "cell_type": "code",
      "execution_count": null,
      "metadata": {
        "id": "g1y-Q69UtZV3",
        "colab": {
          "base_uri": "https://localhost:8080/",
          "height": 524
        },
        "outputId": "41d497fe-7862-412c-d975-097f283abbe9"
      },
      "outputs": [
        {
          "output_type": "display_data",
          "data": {
            "text/plain": [
              "   Unnamed: 0                                                url       q3  \\\n",
              "0           0  http://www.latimes.com/news/nationworld/nation...     News   \n",
              "1           1  http://www.dailykos.com/story/2013/06/30/12189...  Opinion   \n",
              "2           2  http://www.dailykos.com/story/2013/10/18/12486...  Opinion   \n",
              "3           3  http://www.dailykos.com/story/2013/11/24/12568...     News   \n",
              "4           4  http://www.breitbart.com/Big-Government/2013/0...     News   \n",
              "\n",
              "   perceived      primary.topic     secondary.topic     democrat.vote  \\\n",
              "0          0        Environment  International News  SomewhatPositive   \n",
              "1          0          Elections                None          Positive   \n",
              "2          0         Healthcare                None  SomewhatPositive   \n",
              "3          1            Economy                None  SomewhatPositive   \n",
              "4          0  National Security                None  SomewhatPositive   \n",
              "\n",
              "    republican.vote  label                                               text  \n",
              "0           Neutral      1  Obama considers sweeping climate plan\\nWASHING...  \n",
              "1          Negative      1  Like every other state where Republicans have ...  \n",
              "2          Negative      1  Fox News Nation strikes again.\\nSean Hannity h...  \n",
              "3  SomewhatNegative      1  Rep. Paul Ryan's commitment to ending poverty ...  \n",
              "4  SomewhatNegative      1  An employee of Grover Norquist’s Americans for...  "
            ],
            "text/html": [
              "\n",
              "  <div id=\"df-89c84c3e-edea-4ad8-9fda-8c3ee1b1b1ae\">\n",
              "    <div class=\"colab-df-container\">\n",
              "      <div>\n",
              "<style scoped>\n",
              "    .dataframe tbody tr th:only-of-type {\n",
              "        vertical-align: middle;\n",
              "    }\n",
              "\n",
              "    .dataframe tbody tr th {\n",
              "        vertical-align: top;\n",
              "    }\n",
              "\n",
              "    .dataframe thead th {\n",
              "        text-align: right;\n",
              "    }\n",
              "</style>\n",
              "<table border=\"1\" class=\"dataframe\">\n",
              "  <thead>\n",
              "    <tr style=\"text-align: right;\">\n",
              "      <th></th>\n",
              "      <th>Unnamed: 0</th>\n",
              "      <th>url</th>\n",
              "      <th>q3</th>\n",
              "      <th>perceived</th>\n",
              "      <th>primary.topic</th>\n",
              "      <th>secondary.topic</th>\n",
              "      <th>democrat.vote</th>\n",
              "      <th>republican.vote</th>\n",
              "      <th>label</th>\n",
              "      <th>text</th>\n",
              "    </tr>\n",
              "  </thead>\n",
              "  <tbody>\n",
              "    <tr>\n",
              "      <th>0</th>\n",
              "      <td>0</td>\n",
              "      <td>http://www.latimes.com/news/nationworld/nation...</td>\n",
              "      <td>News</td>\n",
              "      <td>0</td>\n",
              "      <td>Environment</td>\n",
              "      <td>International News</td>\n",
              "      <td>SomewhatPositive</td>\n",
              "      <td>Neutral</td>\n",
              "      <td>1</td>\n",
              "      <td>Obama considers sweeping climate plan\\nWASHING...</td>\n",
              "    </tr>\n",
              "    <tr>\n",
              "      <th>1</th>\n",
              "      <td>1</td>\n",
              "      <td>http://www.dailykos.com/story/2013/06/30/12189...</td>\n",
              "      <td>Opinion</td>\n",
              "      <td>0</td>\n",
              "      <td>Elections</td>\n",
              "      <td>None</td>\n",
              "      <td>Positive</td>\n",
              "      <td>Negative</td>\n",
              "      <td>1</td>\n",
              "      <td>Like every other state where Republicans have ...</td>\n",
              "    </tr>\n",
              "    <tr>\n",
              "      <th>2</th>\n",
              "      <td>2</td>\n",
              "      <td>http://www.dailykos.com/story/2013/10/18/12486...</td>\n",
              "      <td>Opinion</td>\n",
              "      <td>0</td>\n",
              "      <td>Healthcare</td>\n",
              "      <td>None</td>\n",
              "      <td>SomewhatPositive</td>\n",
              "      <td>Negative</td>\n",
              "      <td>1</td>\n",
              "      <td>Fox News Nation strikes again.\\nSean Hannity h...</td>\n",
              "    </tr>\n",
              "    <tr>\n",
              "      <th>3</th>\n",
              "      <td>3</td>\n",
              "      <td>http://www.dailykos.com/story/2013/11/24/12568...</td>\n",
              "      <td>News</td>\n",
              "      <td>1</td>\n",
              "      <td>Economy</td>\n",
              "      <td>None</td>\n",
              "      <td>SomewhatPositive</td>\n",
              "      <td>SomewhatNegative</td>\n",
              "      <td>1</td>\n",
              "      <td>Rep. Paul Ryan's commitment to ending poverty ...</td>\n",
              "    </tr>\n",
              "    <tr>\n",
              "      <th>4</th>\n",
              "      <td>4</td>\n",
              "      <td>http://www.breitbart.com/Big-Government/2013/0...</td>\n",
              "      <td>News</td>\n",
              "      <td>0</td>\n",
              "      <td>National Security</td>\n",
              "      <td>None</td>\n",
              "      <td>SomewhatPositive</td>\n",
              "      <td>SomewhatNegative</td>\n",
              "      <td>1</td>\n",
              "      <td>An employee of Grover Norquist’s Americans for...</td>\n",
              "    </tr>\n",
              "  </tbody>\n",
              "</table>\n",
              "</div>\n",
              "      <button class=\"colab-df-convert\" onclick=\"convertToInteractive('df-89c84c3e-edea-4ad8-9fda-8c3ee1b1b1ae')\"\n",
              "              title=\"Convert this dataframe to an interactive table.\"\n",
              "              style=\"display:none;\">\n",
              "        \n",
              "  <svg xmlns=\"http://www.w3.org/2000/svg\" height=\"24px\"viewBox=\"0 0 24 24\"\n",
              "       width=\"24px\">\n",
              "    <path d=\"M0 0h24v24H0V0z\" fill=\"none\"/>\n",
              "    <path d=\"M18.56 5.44l.94 2.06.94-2.06 2.06-.94-2.06-.94-.94-2.06-.94 2.06-2.06.94zm-11 1L8.5 8.5l.94-2.06 2.06-.94-2.06-.94L8.5 2.5l-.94 2.06-2.06.94zm10 10l.94 2.06.94-2.06 2.06-.94-2.06-.94-.94-2.06-.94 2.06-2.06.94z\"/><path d=\"M17.41 7.96l-1.37-1.37c-.4-.4-.92-.59-1.43-.59-.52 0-1.04.2-1.43.59L10.3 9.45l-7.72 7.72c-.78.78-.78 2.05 0 2.83L4 21.41c.39.39.9.59 1.41.59.51 0 1.02-.2 1.41-.59l7.78-7.78 2.81-2.81c.8-.78.8-2.07 0-2.86zM5.41 20L4 18.59l7.72-7.72 1.47 1.35L5.41 20z\"/>\n",
              "  </svg>\n",
              "      </button>\n",
              "      \n",
              "  <style>\n",
              "    .colab-df-container {\n",
              "      display:flex;\n",
              "      flex-wrap:wrap;\n",
              "      gap: 12px;\n",
              "    }\n",
              "\n",
              "    .colab-df-convert {\n",
              "      background-color: #E8F0FE;\n",
              "      border: none;\n",
              "      border-radius: 50%;\n",
              "      cursor: pointer;\n",
              "      display: none;\n",
              "      fill: #1967D2;\n",
              "      height: 32px;\n",
              "      padding: 0 0 0 0;\n",
              "      width: 32px;\n",
              "    }\n",
              "\n",
              "    .colab-df-convert:hover {\n",
              "      background-color: #E2EBFA;\n",
              "      box-shadow: 0px 1px 2px rgba(60, 64, 67, 0.3), 0px 1px 3px 1px rgba(60, 64, 67, 0.15);\n",
              "      fill: #174EA6;\n",
              "    }\n",
              "\n",
              "    [theme=dark] .colab-df-convert {\n",
              "      background-color: #3B4455;\n",
              "      fill: #D2E3FC;\n",
              "    }\n",
              "\n",
              "    [theme=dark] .colab-df-convert:hover {\n",
              "      background-color: #434B5C;\n",
              "      box-shadow: 0px 1px 3px 1px rgba(0, 0, 0, 0.15);\n",
              "      filter: drop-shadow(0px 1px 2px rgba(0, 0, 0, 0.3));\n",
              "      fill: #FFFFFF;\n",
              "    }\n",
              "  </style>\n",
              "\n",
              "      <script>\n",
              "        const buttonEl =\n",
              "          document.querySelector('#df-89c84c3e-edea-4ad8-9fda-8c3ee1b1b1ae button.colab-df-convert');\n",
              "        buttonEl.style.display =\n",
              "          google.colab.kernel.accessAllowed ? 'block' : 'none';\n",
              "\n",
              "        async function convertToInteractive(key) {\n",
              "          const element = document.querySelector('#df-89c84c3e-edea-4ad8-9fda-8c3ee1b1b1ae');\n",
              "          const dataTable =\n",
              "            await google.colab.kernel.invokeFunction('convertToInteractive',\n",
              "                                                     [key], {});\n",
              "          if (!dataTable) return;\n",
              "\n",
              "          const docLinkHtml = 'Like what you see? Visit the ' +\n",
              "            '<a target=\"_blank\" href=https://colab.research.google.com/notebooks/data_table.ipynb>data table notebook</a>'\n",
              "            + ' to learn more about interactive tables.';\n",
              "          element.innerHTML = '';\n",
              "          dataTable['output_type'] = 'display_data';\n",
              "          await google.colab.output.renderOutput(dataTable, element);\n",
              "          const docLink = document.createElement('div');\n",
              "          docLink.innerHTML = docLinkHtml;\n",
              "          element.appendChild(docLink);\n",
              "        }\n",
              "      </script>\n",
              "    </div>\n",
              "  </div>\n",
              "  "
            ]
          },
          "metadata": {}
        },
        {
          "output_type": "stream",
          "name": "stdout",
          "text": [
            "['i', 'me', 'my', 'myself', 'we', 'our', 'ours', 'ourselves', 'you', \"you're\", \"you've\", \"you'll\", \"you'd\", 'your', 'yours', 'yourself', 'yourselves', 'he', 'him', 'his', 'himself', 'she', \"she's\", 'her', 'hers', 'herself', 'it', \"it's\", 'its', 'itself', 'they', 'them', 'their', 'theirs', 'themselves', 'what', 'which', 'who', 'whom', 'this', 'that', \"that'll\", 'these', 'those', 'am', 'is', 'are', 'was', 'were', 'be', 'been', 'being', 'have', 'has', 'had', 'having', 'do', 'does', 'did', 'doing', 'a', 'an', 'the', 'and', 'but', 'if', 'or', 'because', 'as', 'until', 'while', 'of', 'at', 'by', 'for', 'with', 'about', 'against', 'between', 'into', 'through', 'during', 'before', 'after', 'above', 'below', 'to', 'from', 'up', 'down', 'in', 'out', 'on', 'off', 'over', 'under', 'again', 'further', 'then', 'once', 'here', 'there', 'when', 'where', 'why', 'how', 'all', 'any', 'both', 'each', 'few', 'more', 'most', 'other', 'some', 'such', 'no', 'nor', 'not', 'only', 'own', 'same', 'so', 'than', 'too', 'very', 's', 't', 'can', 'will', 'just', 'don', \"don't\", 'should', \"should've\", 'now', 'd', 'll', 'm', 'o', 're', 've', 'y', 'ain', 'aren', \"aren't\", 'couldn', \"couldn't\", 'didn', \"didn't\", 'doesn', \"doesn't\", 'hadn', \"hadn't\", 'hasn', \"hasn't\", 'haven', \"haven't\", 'isn', \"isn't\", 'ma', 'mightn', \"mightn't\", 'mustn', \"mustn't\", 'needn', \"needn't\", 'shan', \"shan't\", 'shouldn', \"shouldn't\", 'wasn', \"wasn't\", 'weren', \"weren't\", 'won', \"won't\", 'wouldn', \"wouldn't\"]\n"
          ]
        },
        {
          "output_type": "display_data",
          "data": {
            "text/plain": [
              "   label                                               text\n",
              "0      0  Obama considers sweeping climate plan\\nWASHING...\n",
              "1      0  Like every other state where Republicans have ...\n",
              "2      0  Fox News Nation strikes again.\\nSean Hannity h...\n",
              "3      0  Rep. Paul Ryan's commitment to ending poverty ...\n",
              "4      0  An employee of Grover Norquist’s Americans for..."
            ],
            "text/html": [
              "\n",
              "  <div id=\"df-f8fe48c6-df54-4546-99a5-2734ee8c99f8\">\n",
              "    <div class=\"colab-df-container\">\n",
              "      <div>\n",
              "<style scoped>\n",
              "    .dataframe tbody tr th:only-of-type {\n",
              "        vertical-align: middle;\n",
              "    }\n",
              "\n",
              "    .dataframe tbody tr th {\n",
              "        vertical-align: top;\n",
              "    }\n",
              "\n",
              "    .dataframe thead th {\n",
              "        text-align: right;\n",
              "    }\n",
              "</style>\n",
              "<table border=\"1\" class=\"dataframe\">\n",
              "  <thead>\n",
              "    <tr style=\"text-align: right;\">\n",
              "      <th></th>\n",
              "      <th>label</th>\n",
              "      <th>text</th>\n",
              "    </tr>\n",
              "  </thead>\n",
              "  <tbody>\n",
              "    <tr>\n",
              "      <th>0</th>\n",
              "      <td>0</td>\n",
              "      <td>Obama considers sweeping climate plan\\nWASHING...</td>\n",
              "    </tr>\n",
              "    <tr>\n",
              "      <th>1</th>\n",
              "      <td>0</td>\n",
              "      <td>Like every other state where Republicans have ...</td>\n",
              "    </tr>\n",
              "    <tr>\n",
              "      <th>2</th>\n",
              "      <td>0</td>\n",
              "      <td>Fox News Nation strikes again.\\nSean Hannity h...</td>\n",
              "    </tr>\n",
              "    <tr>\n",
              "      <th>3</th>\n",
              "      <td>0</td>\n",
              "      <td>Rep. Paul Ryan's commitment to ending poverty ...</td>\n",
              "    </tr>\n",
              "    <tr>\n",
              "      <th>4</th>\n",
              "      <td>0</td>\n",
              "      <td>An employee of Grover Norquist’s Americans for...</td>\n",
              "    </tr>\n",
              "  </tbody>\n",
              "</table>\n",
              "</div>\n",
              "      <button class=\"colab-df-convert\" onclick=\"convertToInteractive('df-f8fe48c6-df54-4546-99a5-2734ee8c99f8')\"\n",
              "              title=\"Convert this dataframe to an interactive table.\"\n",
              "              style=\"display:none;\">\n",
              "        \n",
              "  <svg xmlns=\"http://www.w3.org/2000/svg\" height=\"24px\"viewBox=\"0 0 24 24\"\n",
              "       width=\"24px\">\n",
              "    <path d=\"M0 0h24v24H0V0z\" fill=\"none\"/>\n",
              "    <path d=\"M18.56 5.44l.94 2.06.94-2.06 2.06-.94-2.06-.94-.94-2.06-.94 2.06-2.06.94zm-11 1L8.5 8.5l.94-2.06 2.06-.94-2.06-.94L8.5 2.5l-.94 2.06-2.06.94zm10 10l.94 2.06.94-2.06 2.06-.94-2.06-.94-.94-2.06-.94 2.06-2.06.94z\"/><path d=\"M17.41 7.96l-1.37-1.37c-.4-.4-.92-.59-1.43-.59-.52 0-1.04.2-1.43.59L10.3 9.45l-7.72 7.72c-.78.78-.78 2.05 0 2.83L4 21.41c.39.39.9.59 1.41.59.51 0 1.02-.2 1.41-.59l7.78-7.78 2.81-2.81c.8-.78.8-2.07 0-2.86zM5.41 20L4 18.59l7.72-7.72 1.47 1.35L5.41 20z\"/>\n",
              "  </svg>\n",
              "      </button>\n",
              "      \n",
              "  <style>\n",
              "    .colab-df-container {\n",
              "      display:flex;\n",
              "      flex-wrap:wrap;\n",
              "      gap: 12px;\n",
              "    }\n",
              "\n",
              "    .colab-df-convert {\n",
              "      background-color: #E8F0FE;\n",
              "      border: none;\n",
              "      border-radius: 50%;\n",
              "      cursor: pointer;\n",
              "      display: none;\n",
              "      fill: #1967D2;\n",
              "      height: 32px;\n",
              "      padding: 0 0 0 0;\n",
              "      width: 32px;\n",
              "    }\n",
              "\n",
              "    .colab-df-convert:hover {\n",
              "      background-color: #E2EBFA;\n",
              "      box-shadow: 0px 1px 2px rgba(60, 64, 67, 0.3), 0px 1px 3px 1px rgba(60, 64, 67, 0.15);\n",
              "      fill: #174EA6;\n",
              "    }\n",
              "\n",
              "    [theme=dark] .colab-df-convert {\n",
              "      background-color: #3B4455;\n",
              "      fill: #D2E3FC;\n",
              "    }\n",
              "\n",
              "    [theme=dark] .colab-df-convert:hover {\n",
              "      background-color: #434B5C;\n",
              "      box-shadow: 0px 1px 3px 1px rgba(0, 0, 0, 0.15);\n",
              "      filter: drop-shadow(0px 1px 2px rgba(0, 0, 0, 0.3));\n",
              "      fill: #FFFFFF;\n",
              "    }\n",
              "  </style>\n",
              "\n",
              "      <script>\n",
              "        const buttonEl =\n",
              "          document.querySelector('#df-f8fe48c6-df54-4546-99a5-2734ee8c99f8 button.colab-df-convert');\n",
              "        buttonEl.style.display =\n",
              "          google.colab.kernel.accessAllowed ? 'block' : 'none';\n",
              "\n",
              "        async function convertToInteractive(key) {\n",
              "          const element = document.querySelector('#df-f8fe48c6-df54-4546-99a5-2734ee8c99f8');\n",
              "          const dataTable =\n",
              "            await google.colab.kernel.invokeFunction('convertToInteractive',\n",
              "                                                     [key], {});\n",
              "          if (!dataTable) return;\n",
              "\n",
              "          const docLinkHtml = 'Like what you see? Visit the ' +\n",
              "            '<a target=\"_blank\" href=https://colab.research.google.com/notebooks/data_table.ipynb>data table notebook</a>'\n",
              "            + ' to learn more about interactive tables.';\n",
              "          element.innerHTML = '';\n",
              "          dataTable['output_type'] = 'display_data';\n",
              "          await google.colab.output.renderOutput(dataTable, element);\n",
              "          const docLink = document.createElement('div');\n",
              "          docLink.innerHTML = docLinkHtml;\n",
              "          element.appendChild(docLink);\n",
              "        }\n",
              "      </script>\n",
              "    </div>\n",
              "  </div>\n",
              "  "
            ]
          },
          "metadata": {}
        },
        {
          "output_type": "execute_result",
          "data": {
            "text/plain": [
              "\"Obama considers sweeping climate plan\\nWASHINGTON — The Obama administration is considering a sweeping initiative to address climate change, including the first-ever limits on carbon dioxide from power plants, the country’s biggest source of greenhouse gas emissions, according to people familiar with the discussions.\\nThe White House has yet to settle on specific measures, but “we’re hearing that existing power plants are definitely in the mix,” said a person with knowledge of the deliberations, who, like others, asked not to be identified to talk about White House discussions. An announcement could come by mid-July.\\nPower plants account for about a third of the country’s greenhouse gas emissions, with most of the carbon dioxide coming from coal-fired plants and, to a lesser extent, natural gas generation. Issuing rules to curtail their pollution would almost certainly touch off a battle in the courts and Congress.\\n“There are only a few substantive, meaningful actions the administration can take short of dealing with existing power plants,” said S. William Becker, executive director of the National Assn. of Clean Air Agencies, a group of local and state air pollution regulators. “So I’d be extremely surprised if existing power plants weren’t one of the top priorities the administration is pursuing.”\\nThe White House declined to comment on the deliberations, instead citing President Obama’s past comments on climate change. The Edison Electric Institute, the power industry’s trade group, also declined to comment.\\nStill, Heather Zichal, White House deputy assistant for energy and climate change, said at an environmental conference in Washington last week that “in the coming weeks and months, you can expect to hear more from the president on this issue.”\\nAt the start of his second term, Obama identified climate change as one of his top priorities, along with immigration and the federal deficit. But then the administration appeared to pull back. Long-awaited final rules to limit greenhouse gases from new power plants have been delayed, and the White House has been silent on any plan to control emissions from existing power plants.\\nBut in recent weeks, the administration has begun to move on its climate agenda. Most notably, Obama and Chinese President Xi Jinping announced recently that the countries would phase down and eventually halt the production and use of hydrofluorocarbons, potent heat-trapping gases used as chemical refrigerants in air conditioners and other appliances. The United States and China now plan to work to get other countries, in particular India, to join the effort.\\nThree years ago, Obama pledged that the U.S. would lower its greenhouse gas emissions to 17% less than 2005 levels by 2020. The administration’s fuel economy rules for motor vehicles have helped rein in emissions. Carbon dioxide output has also fallen because the economy slowed and cleaner-burning natural gas plants are replacing coal-fired plants. Yet the U.S. cannot meet that target without enacting new regulations or laws, according to analysts and regulators.\\nRepublican lawmakers have largely rejected the idea that human activity has caused climate change, precluding the chance of passing new legislation. As a result, the administration has to act on its own.\\nRep. Edward Whitfield (R-Ky.), chairman of the House Energy and Commerce subcommittee on energy and power, could not be reached for comment.\\nBut to make a deep dent in carbon dioxide emissions, the administration would have to tackle the politically touchy subject of power plants. Any rule issued by the Environmental Protection Agency would no doubt trigger a lawsuit by opponents. Congress could also try to attach riders to spending bills that would stop funding for greenhouse gas standards, said Daniel J. Weiss, director of climate strategy at the Center for American Progress Action Fund.\\nThe EPA could make new power plant rules more palatable if it avoided a one-size-fits-all approach, Becker said. The states would have to enforce the standards. The EPA could work with states to set up target reductions of greenhouse gases for each state. A state with many coal plants, such as Ohio, might not be able to meet its target as fast as a state such as Washington, which relies greatly on hydroelectricity.\\nEnvironmentalists and regulators said a new climate initiative might contain energy efficiency programs and efforts to eliminate leaks of methane, another potent greenhouse gas, from oil and gas drilling operations and pipelines.\\n“This is an important issue to the president. It’s a question of his legacy,” said Rep. Henry A. Waxman (D-Beverly Hills), ranking member on the House Energy and Commerce Committee. “Five years from now, people will be talking about what the Obama administration did on climate change, not entitlements or the deficit or whatever they are talking about now. Because climate change is here and real, and we have to address it.”\\nneela.banerjee@latimes.com\\nMust-read stories from the L.A. Times\\nGet the day's top news with our Today's Headlines newsletter, sent every weekday morning.\\nYou may occasionally receive promotional content from the Los Angeles Times.\""
            ],
            "application/vnd.google.colaboratory.intrinsic+json": {
              "type": "string"
            }
          },
          "metadata": {},
          "execution_count": 4
        }
      ],
      "source": [
        "data = pd.read_csv(\"balanced_labelled_news_data_w_text.csv\")\n",
        "display(data[:5])\n",
        "print(list(nltk.corpus.stopwords.words(\"english\")))\n",
        "\n",
        "data = data[[\"label\", \"text\"]].copy()\n",
        "data[\"text\"] = data[\"text\"].astype(str)\n",
        "# data[\"text\"] = data[\"text\"].map(lambda text: \" \".join([word for word in text.replace(\"\\n\", \" \").split(\" \") if word not in nltk.corpus.stopwords.words(\"english\")]))\n",
        "data[\"label\"] = data[\"label\"].astype(int).map(lambda x: x-1)\n",
        "display(data[:5])\n",
        "data.iloc[0][\"text\"]"
      ]
    },
    {
      "cell_type": "code",
      "execution_count": null,
      "metadata": {
        "id": "FOwUCh6EMo_r",
        "colab": {
          "base_uri": "https://localhost:8080/"
        },
        "outputId": "78253e77-baae-460a-adf0-45e1fd6f11c7"
      },
      "outputs": [
        {
          "output_type": "stream",
          "name": "stdout",
          "text": [
            "[array([b'[CLS] Perhaps we can help you find what you wanted when you hit this error page?\\nTry our site map for a list of all online sections or check out our columnists page.\\nWe also have search tools for finding a particular stories and topics pages covering many major issues and people.\\nIf you are looking for a particular suburban publication or story, the best place to start is our suburbs page.\\nFinally, you may want to take a look at our archives, which date back to 1849.\\nIf none of these suggestions work, please feel free to read through our FAQ or send us a question or comment.',\n",
            "       b'[CLS] Shutdown ruins vacations, hurts local economies\\nFLAGSTAFF, Ariz. (AP) \\xe2\\x80\\x94 Stop at a cafe in the remote stretches of northern Arizona and southern Utah in the fall, and you\\'re likely to hear a mix of languages as tourists from around the world step into the iconic western landscape, marked by breathtaking canyons and massive rock formations.\\nMillions of visitors tour the region each year for what can be once-in-a-lifetime vacations.\\nThose visitors didn\\'t stop with the government shutdown, which forced officials to close down roads, campgrounds and tourist centers at national parks dotting the landscape.\\nArizona Gov. Jan Brewer has offered to use state money to keep the Grand Canyon open, and several businesses made similar pledges \\xe2\\x80\\x94 all of which have been politely rejected by the national park.\\nThe impact isn\\'t just ruining vacations. It also has brought local economies to a near standstill.\\nTHUMBS DOWN\\nOutside Yellowstone\\'s north entrance, two men on a bus with Indian and Chinese passengers frown and give the thumbs down sign after seeing the park is shut down. A family of Japanese tourists leaves the Grand Canyon in tears. An English couple and a Belgium couple touring national parks out West settles for a drive around Yosemite without being able to put their feet on the ground.\\n\"Looks as though both sides are having a bit of a childish tantrum,\" says Englishman Neil Stanton.\\nSongyi Cho, on a separate trip to Yosemite, says: \"This is crazy. How can a whole government shut down?\"\\nWhile some international tourists kept tabs on American politics in the days before they ventured to national parks, others were blindsided.\\nAlan Platt and his wife, Leana, first heard about a possible shutdown while at the Grand Canyon on Monday. Platt guessed that lawmakers would be pushed to the brink but pass a budget by the deadline. He was wrong, and the couple was forced to cut their three-day Grand Canyon stay short.\\n\"For the rest of the world, we\\'re concerned about the fact you have partisan positioning going on,\" he says. \"No matter who\\'s in power, there\\'s a national pride in engagement we saw. Suddenly, we see a great divide.\"\\nICONS FROM A DISTANCE\\nSome of the country\\'s most recognizable icons can be viewed from a distance \\xe2\\x80\\x94 the full faces of Mount Rushmore, Devils Tower, the granite formations in Yosemite, the Grand Canyon and Mount Rainier. No one needs to tell tourists that it\\'s not the same as camping on the beaches of the Grand Canyon off the Colorado River, walking the slot canyons at Zion or watching water spew at Old Faithful in Yellowstone.\\n\"There\\'s no question it\\'s disappointing,\" says Bruce Brossman of the Grand Canyon Railway, which has furloughed conductors and engineers who run trains into the canyon. \"You can get a sneak peak and maybe get inspired to come back.\"\\nReturning to the national parks might be easier said than done, particularly for international tourists who often plan expensive and lengthy vacations.\\nSALVAGING TRIPS\\nJock Holland, of Melbourne, Australia, is among those forced to make alternate plans. He was heading to Grand Teton from Yellowstone when he was stopped by the park closure. He planned to chart a new course after grabbing a bite to eat in Jackson, Wyo.\\nThe Yosemite Sierra Visitors Bureau outside the national park helped Stanton and his wife, Clare, set up horseback rides and hikes outside. He says Yosemite has \"been somewhat on our bucket list for years, and you get here and you can\\'t get to it. A bit frustrating but we still made the most of it.\"\\nJulie Jaeger and her friend are leaving California on Friday for what would have been a trip to Zion, Bryce Canyon, the Grand Canyon\\'s North Rim, Canyonlands and Mesa Verde national parks. They\\'ve renamed their vacation the \"magical mystery tour,\" as they search for state parks and interesting towns to visit along the way. They still hope the federal government resumes operations and they can salvage part of their original itinerary.\\nBUSINESSES TAKE HIT\\nRafting outfitters, fishing guides, Jeep companies, hotels and restaurants are hurting without the 715,000 people who spend about $76 million a day visiting the national park system.\\nAbout 90 percent of the business at Phoenix-based Across Arizona Tours is for the Grand Canyon, says company co-founder Leonardo Gem.\\n\"It\\'s like closing Macy\\'s the day after Thanksgiving,\" he says.\\nAt Lees Ferry Anglers, which runs fishing trips in Glen Canyon National Recreation Area in northern Arizona, employees are busy calling customers to cancel trips scheduled this week.\\n\"It is devastating,\" says employee Kaila Bruner. \"You can\\'t really function normally. We just have to depend on the lodging and the through traffic to stay open.\"\\nGreg Bryan, mayor of the tiny town of Tusayan outside the Grand Canyon entrance, manages a hotel in town and says he is downsizing staff as fewer and fewer people come through. The town should be bustling with tourists sharing pictures of sunsets over the South Rim, of mule rides down the park\\'s trails and massive expanses of geology.\\nIt looks more like a ghost town these days.\\n___\\nAssociated Press Writers Brian Skoloff in Tusayan, Ariz., Paul Foy in Salt Lake City, Manuel Valdes in Seattle and Tammy Webber in Yosemite National Park, Calif., contributed to this report',\n",
            "       b'[CLS] Perhaps we can help you find what you wanted when you hit this error page?\\nTry our site map for a list of all online sections or check out our columnists page.\\nWe also have search tools for finding a particular stories and topics pages covering many major issues and people.\\nIf you are looking for a particular suburban publication or story, the best place to start is our suburbs page.\\nFinally, you may want to take a look at our archives, which date back to 1849.\\nIf none of these suggestions work, please feel free to read through our FAQ or send us a question or comment.',\n",
            "       b'[CLS] nan',\n",
            "       b'[CLS] Wolf Blitzer and Michele Bachmann had a lengthy, tense argument about Obamacare on Blitzer\\'s CNN show on Friday.\\nBlitzer, who usually presents a reserved, dispassionate demeanor on air, got unusually feisty with Bachmann, cutting her off and deriding many of the things she said.\\nAdvertisement\\nA sample exchange:\\nBACHMANN: \\xe2\\x80\\x9cWe know now the estimate from the government is that about 30 million people are going to be cut off their employer\\xe2\\x80\\x99s health insurance because of Obamacare.\"\\nBLITZER: \"I don\\xe2\\x80\\x99t know where you\\xe2\\x80\\x99re getting 30 million people cut off! That\\'s not true.\"\\nBACHMANN: \"From the government!\"\\nBLITZER: \"You\\xe2\\x80\\x99re going to have to show me those numbers.\"\\nWatch the whole video above.',\n",
            "       b'[CLS] A group of conservative House Republicans blasted the decisions on same-sex marriage issued Wednesday by the Supreme Court as legally inconsistent and detrimental to the future of the nation\\xe2\\x80\\x99s children. One lawmaker pledged to soon file a constitutional amendment to reinstate the Defense of Marriage Act.\\n\\xe2\\x80\\x9cA narrow radical majority of the court has substituted their personal views for the constitutional decisions of the American voters and their elected representatives,\\xe2\\x80\\x9d said Rep. Tim Huelskamp (R-Kan.). \\xe2\\x80\\x9cMy response will be later this week to file a federal marriage amendment.\\xe2\\x80\\x9d\\nAsked if he would have the leadership\\xe2\\x80\\x99s support, Huelskamp pointed to a statement from House Speaker John A. Boehner (R-Ohio) expressing disappointment in the decisions. Boehner\\xe2\\x80\\x99s comments were less forceful than those from more conservative House Republicans, though.\\nHuelskamp and other tea party-backed lawmakers spoke at a monthly meeting with reporters they call \\xe2\\x80\\x9cConversations With Conservatives,\\xe2\\x80\\x9d which allows the reporters to quiz some of the most ardent conservatives on issues facing Congress.\\nIn opening remarks, Huelskamp said he was primarily concerned about how the rulings could affect American children. Decades of social-science research have \\xe2\\x80\\x9cshown that every child deserves a mom and dad,\\xe2\\x80\\x9d he said, adding later, \\xe2\\x80\\x9cI think children will be hurt.\\xe2\\x80\\x9d\\nRep. Michele Bachmann (R-Minn.), an outspoken tea party member, echoed Huelskamp.\\n\\xe2\\x80\\x9cMarriage was created by the hand of God. No man, not even a Supreme Court, can undo what a holy God has instituted,\\xe2\\x80\\x9d Bachmann said. \\xe2\\x80\\x9cWhat the court has done will undermine the best interest of children and the best interests of the United States.\\xe2\\x80\\x9d\\nRalph Reed, a leading Christian conservative and head of the Faith & Freedom Coalition, denounced the ruling as \\xe2\\x80\\x9can Orwellian act of judicial fiat\\xe2\\x80\\x9d and said he will join in the effort for new legislation to replace the Defense of Marriage Act.\\n\\xe2\\x80\\x9cWe will now seek the passage of federal legislation to remedy this situation as much as possible given the parameters of the decision,\\xe2\\x80\\x9d he said.\\nWhile these conservatives spoke out, other Republican opponents of same-sex marriage were notably quieter than gay-marriage supporters after the decisions were handed down Wednesday morning.\\nBoehner said the debate over marriage will continue and emphasized that the court\\xe2\\x80\\x99s decision is part of the process.\\n\\xe2\\x80\\x9cWhile I am obviously disappointed in the ruling, it is always critical that we protect our system of checks and balances,\\xe2\\x80\\x9d Boehner said. \\xe2\\x80\\x9cA robust national debate over marriage will continue in the public square, and it is my hope that states will define marriage as the union between one man and one woman.\\xe2\\x80\\x9d\\nNot all Republicans expressed disappointment in the rulings.\\nSen. Lisa Murkowski (R-Alaska), who last week became the third GOP senator to endorse same-sex marriage, hailed the decision as a victory for state\\xe2\\x80\\x99s rights, noting that states will be allowed to decide the issue for themselves.\\nSen. Rand Paul (R-Ky.), who opposes same-sex marriage, agreed with Murkowski, telling ABC News that states should decide the issue.\\n\\xe2\\x80\\x9cAs a country, we can agree to disagree,\\xe2\\x80\\x9d Paul said.\\nAnother potential candidate in the 2016 GOP presidential race, Sen. Marco Rubio (R-Fla.), said he sympathizes with the states\\xe2\\x80\\x99-rights argument. \\xe2\\x80\\x9cFor the purposes of federal law, however, Congress had every right to adopt a uniform definition, and I regret that the Supreme Court would interfere with that determination,\\xe2\\x80\\x9d Rubio said.\\nEven as conservatives promised legislation to ban same-sex marriage, Sen. Dianne Feinstein (D-Calif.) and Rep. Jerrold Nadler (D-N.Y.) introduced a bill to repeal the Defense of Marriage Act, some parts of which were not challenged in the case decided Wednesday.',\n",
            "       b'[CLS] Fifty years on: \\'King\\'s dream continues to inspire us\\'\\nIt is 50 years since the American civil rights leader Martin Luther King delivered his I Have a Dream speech [PDF format].\\nOn 28 August 1963, more than 200,000 Americans joined a march on Washington demanding equal justice for all citizens under the law.\\nOn that day, the inter-racial crowd heard Martin Luther King deliver his famous speech, predicting a time when freedom and equality for all would become a reality in the US.\\nHere people whose lives have been touched by that moment reflect and share their memories half a century on.\\nJill Burrows, 67, communications professional, Cambridge, Massachusetts\\n\\xe2\\x80\\x9cStart Quote\\nEnd QuoteEnd Quote\\nAs far as the eye could see, well-meaning individuals, both black and white, linked arms and put their hearts into singing hopeful renditions of We Shall Overcome\\xe2\\x80\\x9d\\nDuring the 50s and 60s black Americans in the South were born, lived, worked, socialised and died in communities that were separate and distinctly unequal from those of our white counterparts.\\nAlthough I was just a young girl at the time, I still have vivid memories of drinking out of Coloured Only fountains and going to a segregated school. Bus drivers instructed us to move to the back of the bus - even when there were no other passengers.\\nDespite this my parents were emphatic in their belief that, in America, if we worked hard and were good citizens anything and everything was possible. This conviction appeared to be in direct opposition to general expectations.\\nWhen Dr King came into our lives he expanded our horizons, fuelled our expectations, extended hope, and offered the nation a blueprint for enacting change.\\nIn August of 1963, I joined the March on Washington with my parents. Having lived in the South and experienced all we had, we felt it was really important to be there and to show our support.\\nIt was the most amazing experience because people there were so loving. We all felt as if we were one.\\nI can remember taking notes during King\\'s stirring speech because even at the time it felt like a moment of history.\\nAs far as the eye could see, well-meaning individuals, both black and white, linked arms and put their hearts into singing hopeful renditions of We Shall Overcome.\\nI remember thinking that surely everyone in the world would hear - and heed - Dr King\\'s simple but powerful message of love, peace and social justice for all.\\nSadly, on the evening of April 4 1968, when the shots rang out at the Lorraine Motel in Memphis, Tennessee, it became apparent that there were those who had not.\\nFor some time afterwards it felt as if those who love to hate had seized the day, and it was devastating. But that was now 50 years ago.\\nLooking back at that time, Dr King\\'s legacy of personal sacrifice, unyielding courage and service to others, feels just as radical and empowering today as it did then.\\nDenise Richardson, 47, housewife, Cincinnati, Ohio\\n\\xe2\\x80\\x9cStart Quote\\nEnd QuoteEnd Quote\\nEvery year on the anniversary of Dr King\\'s famous speech, I watch a recording of it with my family\\xe2\\x80\\x9d\\nI\\'ve been in a mixed-race marriage for 19 years and have two children, aged 13 and 10.\\nI am a product of the change that was set out in Martin Luther King\\'s speech.\\nI am free to marry the man I love regardless of colour. I am free to raise my children to embrace who they are.\\nEvery year on the anniversary of Dr King\\'s famous speech, I watch a recording of it with my family. It brings tears to my eyes because it represents freedom.\\nIt gives my children another perspective on their lives. It is a chance for them to see that there is something bigger than themselves.\\nThe end of the speech sticks in my mind, when Dr King looks forward to a day when all God\\'s children - of all races - will be free.\\nI grew up in Kentucky and the high school I went to was very conservative. I never interacted with anyone who was from another race.\\nBut as I got older I met people from other cultures, races and backgrounds and it opened my eyes.\\nI feel I am able to live in a diverse community, attend a diverse church and send my children to a diverse school because a lot of people made sacrifices during those years.\\nWhen I watch Dr King\\'s speech I feel he is making a promise about what will happen in the future. We\\'ve got a long way to go, but we are close to experiencing that promise today.\\nPeter Crane, 66, retired, Seattle, Washington\\nI took part in the March on Washington. I was then about to turn 17 and lived in the capital.\\n\\xe2\\x80\\x9cStart Quote\\nEnd QuoteEnd Quote\\nWhat I remember above all is the warmth and friendliness around me\\xe2\\x80\\x9d\\nMany white residents of the city had hunkered down in their homes afraid it was going to be an occasion of violence and looting.\\nI wanted to be with the marchers, expressing solidarity with their aims - not hiding in my home.\\nSeveral things stand out in my mind about the march. One was the festival atmosphere, the overwhelming happiness of the crowd.\\nThis was not an angry gathering, but a celebratory one.\\nWhat I remember above all is the warmth and friendliness around me. Maybe it was because it gladdened the hearts of some marchers to see young whites in solidarity with them.\\nSomething enormously impressive was the seemingly endless procession of chartered buses, rolling down Pennsylvania Avenue past the Washington Monument, with signs proclaiming where they were from and where they were headed.\\nThese people had taken their lives in their hands to drive through the South en route to Washington, with banners that made clear who they were and where they were going.\\nThe cities named on the sides of the buses were a roll call of the places where the battle for civil rights was being fought out.\\nTo anyone too young to remember it, it is hard to imagine just how segregated America was in those days, and what it meant on a day-to-day level.\\nI remember going to a birthday party when I was seven or eight years old. We were turned away from an amusement park because the birthday boy was an African-American child called Paul.\\nThe thing that we took away from that day in 1963 was not one speech. It was a sense of moral power and political resolve - not just of leaders but of ordinary people - that was not going to be stopped.\\nKimete Mitrovica-Basha, 60, NGO director, Brussels, Belgium\\n\\xe2\\x80\\x9cStart Quote\\nEnd QuoteEnd Quote\\nMy father, like King, had a dream for his children\\xe2\\x80\\x9d\\nI was 10 years old and living in Melbourne, Australia, when Martin Luther King intoned the words that electrified the thousands of marchers who had gathered in Washington.\\nI was too young to understand why my father - an Albanian-Kosovar intellectual - cried. I would have to wait several years to understand that King\\'s dream was my father\\'s dream, and that very soon, it would become mine.\\nMy parents arrived in Australia after the Second World War. My father was exiled to a meat packing factory to feed his seven children.\\nWe were not excluded because of colour but we were trapped by searing poverty. We lived in our own \"lonely island of poverty\" amid an \"ocean of material prosperity\".\\nI have a very vivid memory of my first day of school.\\nWhen the teacher asked my name and my mother responded, the teacher shook her head and said, \"That\\'s not going to do.\" So my first experience of the world outside home was that even my name didn\\'t fit.\\nMy father, like King, had a dream for his children.\\nHe had a dream that his children would one day live in a place where they would not be judged by the accents their parents could not lose or the distance that separated them from their ancestral home, but by the \"content of their character\".\\nMy father realised the real limitations for us in Australia after my elder sister was unable to get a scholarship to university. In 1969 he took my family to Canada so we could have access to university education.\\nMy father, like King, did not get to the mountaintop with his children - one a Harvard professor, another an award-winning reporter, another a pioneer in corporate social responsibility and yet another a director of an NGO devoted to bringing books to children.\\nBut King\\'s dream - my father\\'s dream - continues to inspire us in all that we do.\\nEden Richardson, 24, college student, New York City\\n\\xe2\\x80\\x9cStart Quote\\nEnd QuoteEnd Quote\\nI had the opportunity to move away from racial stereotypes\\xe2\\x80\\x9d\\nWe have come a long way from where we were when King made his speech.\\nBut we still have some way to go before we get to the dream.\\nIt depends where you are in the US. As a mixed-race person, I don\\'t have any problems in New York City. When I lived in rural New Hampshire I would get funny looks from people.\\nSome people would cross to the other side of the street when they saw me.\\nI had the opportunity to move away from racial stereotypes, to study to be a photographer and to travel.\\nThat was partly because I was given the opportunity by an education foundation to go to a private boarding school.\\nIn the neighbourhood I grew up in people were mainly black or from the West Indies. They were from poor backgrounds and they tended to stay poor.\\nAt boarding school I was one of around eight students of colour. I remember when I grew my hair out people thought I was wearing a wig.\\nThe other students made a lot of assumptions about us, imagining we all played basketball or liked certain types of music. Even the black students who had come from other countries were making these kind of assumptions about us.\\nSo for me, the most important part of King\\'s speech is where he says he wants his children to grow up in a country where they have the same opportunity as everyone else. We are not there yet.\\nInterviews by Nathan Williams, BBC News',\n",
            "       b'[CLS] Dana Nessel\\xe2\\x80\\x99s office is seeking a special prosecutor to avoid a conflict of interest in the case, which alleges \\xe2\\x80\\x9cone of the prime instigators of the conspiracy\\xe2\\x80\\x9d was Matthew DePerno, the Trump-backed presumptive GOP nominee set to challenge her in the fall.\\nSen. Chris Coons, D-Del., called the passage of the Inflation Reduction Act an \\xe2\\x80\\x9cincredible moment of accomplishment.\\xe2\\x80\\x9d Coons said it will make a real difference for prescription drug prices, energy costs and health care costs.\\nIndiana lawmakers passed new legislation to ban abortion, making them the first state legislature to do so since Roe v. Wade was overturned by the Supreme Court. The measure now heads to Gov. Eric Holcomb, who has not indicated whether he will sign it.'],\n",
            "      dtype=object), array([0, 1, 0, 1, 1, 2, 2, 2])]\n"
          ]
        }
      ],
      "source": [
        "full_dataset = tf.data.Dataset.from_tensor_slices((data[\"text\"], data[\"label\"].astype(int)))\n",
        "full_dataset = full_dataset.map(lambda x, y: ((\"[CLS] \" + x), y))\n",
        "full_dataset = full_dataset.shuffle(len(full_dataset))\n",
        "full_dataset = full_dataset.repeat(15)  # i guess equivalent to training 15 epochs (training epochs are smaller than full dataset cause the dataset is pretty big and for more validation)\n",
        "\n",
        "val_dataset_size = 500\n",
        "batch_size = 8  # this is the max before colab GPU OOM\n",
        "\n",
        "train_dataset = full_dataset.skip(val_dataset_size)\n",
        "validation_dataset = full_dataset.take(val_dataset_size)\n",
        "train_dataset = train_dataset.batch(batch_size)\n",
        "validation_dataset = validation_dataset.batch(batch_size)\n",
        "\n",
        "print(list(next(iter(train_dataset.as_numpy_iterator()))))"
      ]
    },
    {
      "cell_type": "markdown",
      "source": [
        "---\n",
        "\n",
        "# Model Initialization:\n",
        "\n",
        "---"
      ],
      "metadata": {
        "id": "kVh2ps0chh32"
      }
    },
    {
      "cell_type": "code",
      "execution_count": null,
      "metadata": {
        "id": "GPhXiKlzrRaX",
        "colab": {
          "base_uri": "https://localhost:8080/",
          "height": 308,
          "referenced_widgets": [
            "b2e23b6fe5cd4cb385c011b24815403e",
            "a5cc46b64c7a4c23901ca5e96860d660",
            "383996512976464dba399663b5897ea3",
            "5f967ffad03445f6b905299b922f64ff",
            "727a786630eb47aba39c4a8c620e26a7",
            "523b7da8252d488da1a9a5addfc7e79b",
            "74ffaa429d0e4456a0c8e1272b73fd34",
            "cb2c8c05c3d94cc1ac05ea545b42e7e0",
            "13c3ea01cf7b4717b822a7f60fcd5b4d",
            "d55a2066e05543c8af053a3bba5c2cb8",
            "ce09378bf2424437b428946d49b23b63",
            "34144380949848c2bf73a44e23f5a8d9",
            "60ea731bdd7f455abc68116bcff8612a",
            "c40f297d54c14d93b4a55ef93f0ff925",
            "c8ba4faf8a744e6ba1287014ead3c42f",
            "2d83a6cd8e6349a6980499e2191dd17f",
            "bb8cbb377a024c73ad5215fc88334a36",
            "781a6020e835474d87fd1b8187d699f8",
            "378ba4c05e944aa0ae64c92218263fe7",
            "06daf0333f6749e59668b25f432ab4ee",
            "417baff1551040d4b3c1bdb2cdc1b7d1",
            "6e119665bbb548e884821e4068ba0af0",
            "a0551e3262a14eb0b067ba830a58242e",
            "496fc86067844b1d8e1752fddc274166",
            "ec8d6d34dbe741c380c7b86eeed74e29",
            "96e0eae2336745909ea15883511d9099",
            "4f2642752faf40c4b466fbf512e40a6c",
            "2872331accdd47d4af5758a2c31788ee",
            "7915954e4aac4133b70ef7cb70dbd355",
            "94e768fcd01b481e8cbef5089da979f8",
            "b67c7cd74cf748db8d7a66e2c7d279a2",
            "03b53ef300da44e5a782d98532d6ca3f",
            "f504f90c2f20446b8e0a3eb067dffbf5",
            "220eefe07f874d34a371e3a0dfd50a2d",
            "56389a4847d64d8491e496c99ee83747",
            "83b61681c4db437a83b90c2e65f29012",
            "357d8187728741a892525e047793d8e1",
            "5337804ee5f64e208b4279fea9c52348",
            "bf1b6e6aaa63446a8ae40737c30bf25c",
            "991f11c9e27d4e489c15eb0b5c590cfd",
            "443a13638d064817a5c6441a57b489b3",
            "c82dd0d5574d4c5cbeaf011013de1081",
            "c02afeee641b4eceb55ef3e38f1d2e09",
            "7851cbe95ac04709a18cb8d7f7acae01"
          ]
        },
        "outputId": "13685de6-a1e5-4fb5-8d21-5152ed929ce8"
      },
      "outputs": [
        {
          "output_type": "display_data",
          "data": {
            "text/plain": [
              "Downloading vocab.txt:   0%|          | 0.00/226k [00:00<?, ?B/s]"
            ],
            "application/vnd.jupyter.widget-view+json": {
              "version_major": 2,
              "version_minor": 0,
              "model_id": "b2e23b6fe5cd4cb385c011b24815403e"
            }
          },
          "metadata": {}
        },
        {
          "output_type": "display_data",
          "data": {
            "text/plain": [
              "Downloading tokenizer_config.json:   0%|          | 0.00/28.0 [00:00<?, ?B/s]"
            ],
            "application/vnd.jupyter.widget-view+json": {
              "version_major": 2,
              "version_minor": 0,
              "model_id": "34144380949848c2bf73a44e23f5a8d9"
            }
          },
          "metadata": {}
        },
        {
          "output_type": "display_data",
          "data": {
            "text/plain": [
              "Downloading config.json:   0%|          | 0.00/483 [00:00<?, ?B/s]"
            ],
            "application/vnd.jupyter.widget-view+json": {
              "version_major": 2,
              "version_minor": 0,
              "model_id": "a0551e3262a14eb0b067ba830a58242e"
            }
          },
          "metadata": {}
        },
        {
          "output_type": "stream",
          "name": "stderr",
          "text": [
            "The tokenizer class you load from this checkpoint is not the same type as the class this function is called from. It may result in unexpected tokenization. \n",
            "The tokenizer class you load from this checkpoint is 'DistilBertTokenizer'. \n",
            "The class this function is called from is 'BertTokenizer'.\n"
          ]
        },
        {
          "output_type": "display_data",
          "data": {
            "text/plain": [
              "Downloading tf_model.h5:   0%|          | 0.00/347M [00:00<?, ?B/s]"
            ],
            "application/vnd.jupyter.widget-view+json": {
              "version_major": 2,
              "version_minor": 0,
              "model_id": "220eefe07f874d34a371e3a0dfd50a2d"
            }
          },
          "metadata": {}
        },
        {
          "output_type": "stream",
          "name": "stderr",
          "text": [
            "Some layers from the model checkpoint at distilbert-base-uncased were not used when initializing TFDistilBertForSequenceClassification: ['vocab_transform', 'vocab_projector', 'activation_13', 'vocab_layer_norm']\n",
            "- This IS expected if you are initializing TFDistilBertForSequenceClassification from the checkpoint of a model trained on another task or with another architecture (e.g. initializing a BertForSequenceClassification model from a BertForPreTraining model).\n",
            "- This IS NOT expected if you are initializing TFDistilBertForSequenceClassification from the checkpoint of a model that you expect to be exactly identical (initializing a BertForSequenceClassification model from a BertForSequenceClassification model).\n",
            "Some layers of TFDistilBertForSequenceClassification were not initialized from the model checkpoint at distilbert-base-uncased and are newly initialized: ['dropout_19', 'classifier', 'pre_classifier']\n",
            "You should probably TRAIN this model on a down-stream task to be able to use it for predictions and inference.\n"
          ]
        }
      ],
      "source": [
        "from transformers import TFBertTokenizer, TFBertForSequenceClassification, TFDistilBertForSequenceClassification\n",
        "hf_bert_model_path = \"distilbert-base-uncased\"  # https://huggingface.co/bert-base-uncased  Note that there are other BERT models available.\n",
        "\n",
        "\n",
        "tokenizer = TFBertTokenizer.from_pretrained(hf_bert_model_path)  # no TFDistilBertTokenizer, so just use regular bert\n",
        "classifier = TFDistilBertForSequenceClassification.from_pretrained(hf_bert_model_path, num_labels=3)"
      ]
    },
    {
      "cell_type": "code",
      "execution_count": null,
      "metadata": {
        "id": "ARSoPHVv33La"
      },
      "outputs": [],
      "source": [
        "class MultiOutLayer(tf.keras.layers.Layer):\n",
        "  def __init__(self, output, activation=\"linear\", *args, **kwargs):\n",
        "    super().__init__(*args, **kwargs)\n",
        "    output = [output] if isinstance(output, int) else output\n",
        "    self.output_sizes = output\n",
        "    self.output_layers = [tf.keras.layers.Dense(size, activation=activation) for size in output]\n",
        "\n",
        "  def call(self, inputs):\n",
        "    out = [tf.reshape(layer(inputs), (-1, 1, self.output_sizes[i])) for i, layer in enumerate(self.output_layers)]\n",
        "    if len(out) > 1:\n",
        "      return tf.concat(out, axis=1)\n",
        "    else:\n",
        "      return out[0]\n",
        "\n",
        "\n",
        "class BertTokenizerClassifierCombined(tf.keras.Model):\n",
        "  def __init__(self, tokenizer, classifier, output_layer_override=None, *args, **kwargs):\n",
        "    super().__init__(*args, **kwargs)\n",
        "    self.tokenizer = tokenizer\n",
        "    self.classifier = classifier\n",
        "    if output_layer_override is not None:\n",
        "      self.classifier.classifier = output_layer_override  # replace output with custom\n",
        "  \n",
        "  \n",
        "  def call(self, data):\n",
        "    tokenized = self.tokenizer(data)\n",
        "    del tokenized[\"token_type_ids\"]  # for DistilBERT\n",
        "    print(tokenized)\n",
        "    out = self.classifier(**tokenized)\n",
        "    print(out)\n",
        "    return out\n",
        "\n",
        "\n",
        "\n",
        "model = BertTokenizerClassifierCombined(tokenizer=tokenizer, classifier=classifier, output_layer_override=None)"
      ]
    },
    {
      "cell_type": "code",
      "execution_count": null,
      "metadata": {
        "id": "Q-Qeqtqpvqso",
        "colab": {
          "base_uri": "https://localhost:8080/"
        },
        "outputId": "d7153dba-0c40-4746-af7a-3156178c60da"
      },
      "outputs": [
        {
          "output_type": "stream",
          "name": "stdout",
          "text": [
            "{'input_ids': <tf.Tensor: shape=(4, 8), dtype=int64, numpy=\n",
            "array([[  101,  7592,  2088,   999,   102,     0,     0,     0],\n",
            "       [  101,  1041,   102,     0,     0,     0,     0,     0],\n",
            "       [  101,  1062, 13213,   102,     0,     0,     0,     0],\n",
            "       [  101,  2001,  2094, 17311,  2094,  9333,  2094,   102]])>, 'attention_mask': <tf.Tensor: shape=(4, 8), dtype=int64, numpy=\n",
            "array([[1, 1, 1, 1, 1, 0, 0, 0],\n",
            "       [1, 1, 1, 0, 0, 0, 0, 0],\n",
            "       [1, 1, 1, 1, 0, 0, 0, 0],\n",
            "       [1, 1, 1, 1, 1, 1, 1, 1]])>}\n",
            "TFSequenceClassifierOutput(loss=None, logits=<tf.Tensor: shape=(4, 3), dtype=float32, numpy=\n",
            "array([[ 0.02133938, -0.02170567, -0.02940661],\n",
            "       [ 0.0359246 , -0.00137939, -0.00984681],\n",
            "       [ 0.0405022 , -0.0037818 , -0.0215605 ],\n",
            "       [ 0.03525259, -0.00523192,  0.02804204]], dtype=float32)>, hidden_states=None, attentions=None)\n"
          ]
        },
        {
          "output_type": "execute_result",
          "data": {
            "text/plain": [
              "TFSequenceClassifierOutput([('logits',\n",
              "                             <tf.Tensor: shape=(4, 3), dtype=float32, numpy=\n",
              "                             array([[ 0.02133938, -0.02170567, -0.02940661],\n",
              "                                    [ 0.0359246 , -0.00137939, -0.00984681],\n",
              "                                    [ 0.0405022 , -0.0037818 , -0.0215605 ],\n",
              "                                    [ 0.03525259, -0.00523192,  0.02804204]], dtype=float32)>)])"
            ]
          },
          "metadata": {},
          "execution_count": 8
        }
      ],
      "source": [
        "# Sanity check\n",
        "model([\"Hello World!\", \"E\", \"ZZZ\", \"wasdwasdwsd\"])"
      ]
    },
    {
      "cell_type": "markdown",
      "source": [
        "---\n",
        "\n",
        "# Model Training:\n",
        "\n",
        "---\n"
      ],
      "metadata": {
        "id": "YF1XqNOOhn9l"
      }
    },
    {
      "cell_type": "code",
      "execution_count": null,
      "metadata": {
        "id": "Dr8FNwEPtsUx",
        "colab": {
          "base_uri": "https://localhost:8080/"
        },
        "outputId": "a41c89d2-a27e-4804-e47d-e1a26cd98f7e"
      },
      "outputs": [
        {
          "output_type": "stream",
          "name": "stdout",
          "text": [
            "Epoch 1/50\n",
            "{'input_ids': <tf.Tensor 'bert_tokenizer_classifier_combined/tf_bert_tokenizer/pad_model_inputs/RaggedToTensor/RaggedTensorToTensor:0' shape=(None, None) dtype=int64>, 'attention_mask': <tf.Tensor 'bert_tokenizer_classifier_combined/tf_bert_tokenizer/pad_model_inputs/RaggedToTensor_1/RaggedTensorToTensor:0' shape=(None, None) dtype=int64>}\n",
            "TFSequenceClassifierOutput(loss=None, logits=<tf.Tensor 'bert_tokenizer_classifier_combined/tf_distil_bert_for_sequence_classification/classifier/BiasAdd:0' shape=(None, 3) dtype=float32>, hidden_states=None, attentions=None)\n",
            "{'input_ids': <tf.Tensor 'bert_tokenizer_classifier_combined/tf_bert_tokenizer/pad_model_inputs/RaggedToTensor/RaggedTensorToTensor:0' shape=(None, None) dtype=int64>, 'attention_mask': <tf.Tensor 'bert_tokenizer_classifier_combined/tf_bert_tokenizer/pad_model_inputs/RaggedToTensor_1/RaggedTensorToTensor:0' shape=(None, None) dtype=int64>}\n",
            "TFSequenceClassifierOutput(loss=None, logits=<tf.Tensor 'bert_tokenizer_classifier_combined/tf_distil_bert_for_sequence_classification/classifier/BiasAdd:0' shape=(None, 3) dtype=float32>, hidden_states=None, attentions=None)\n",
            "100/100 [==============================] - ETA: 0s - loss: 1.0948 - accuracy: 0.3625{'input_ids': <tf.Tensor 'bert_tokenizer_classifier_combined/tf_bert_tokenizer/pad_model_inputs/RaggedToTensor/RaggedTensorToTensor:0' shape=(None, None) dtype=int64>, 'attention_mask': <tf.Tensor 'bert_tokenizer_classifier_combined/tf_bert_tokenizer/pad_model_inputs/RaggedToTensor_1/RaggedTensorToTensor:0' shape=(None, None) dtype=int64>}\n",
            "TFSequenceClassifierOutput(loss=None, logits=<tf.Tensor 'bert_tokenizer_classifier_combined/tf_distil_bert_for_sequence_classification/classifier/BiasAdd:0' shape=(None, 3) dtype=float32>, hidden_states=None, attentions=None)\n",
            "100/100 [==============================] - 70s 564ms/step - loss: 1.0948 - accuracy: 0.3625 - val_loss: 1.0692 - val_accuracy: 0.4180\n",
            "Epoch 2/50\n",
            "100/100 [==============================] - 56s 565ms/step - loss: 1.0846 - accuracy: 0.4200 - val_loss: 1.0619 - val_accuracy: 0.4420\n",
            "Epoch 3/50\n",
            "100/100 [==============================] - 58s 577ms/step - loss: 1.0368 - accuracy: 0.4737 - val_loss: 1.0032 - val_accuracy: 0.4840\n",
            "Epoch 4/50\n",
            "100/100 [==============================] - 57s 575ms/step - loss: 1.0254 - accuracy: 0.4837 - val_loss: 1.0010 - val_accuracy: 0.4740\n",
            "Epoch 5/50\n",
            "100/100 [==============================] - 57s 574ms/step - loss: 1.0227 - accuracy: 0.4775 - val_loss: 0.9793 - val_accuracy: 0.5320\n",
            "Epoch 6/50\n",
            "100/100 [==============================] - 57s 575ms/step - loss: 1.0145 - accuracy: 0.4975 - val_loss: 0.9980 - val_accuracy: 0.4940\n",
            "Epoch 7/50\n",
            "100/100 [==============================] - 57s 574ms/step - loss: 0.9754 - accuracy: 0.5163 - val_loss: 0.9275 - val_accuracy: 0.5780\n",
            "Epoch 8/50\n",
            "100/100 [==============================] - 57s 575ms/step - loss: 0.9546 - accuracy: 0.5375 - val_loss: 0.9694 - val_accuracy: 0.5680\n",
            "Epoch 9/50\n",
            "100/100 [==============================] - 57s 575ms/step - loss: 0.9517 - accuracy: 0.5537 - val_loss: 0.8677 - val_accuracy: 0.6240\n",
            "Epoch 10/50\n",
            "100/100 [==============================] - 57s 574ms/step - loss: 0.9044 - accuracy: 0.5575 - val_loss: 0.7948 - val_accuracy: 0.6340\n",
            "Epoch 11/50\n",
            "100/100 [==============================] - 57s 574ms/step - loss: 0.9047 - accuracy: 0.5525 - val_loss: 0.7982 - val_accuracy: 0.6300\n",
            "Epoch 12/50\n",
            "100/100 [==============================] - 57s 575ms/step - loss: 0.8627 - accuracy: 0.6175 - val_loss: 0.7787 - val_accuracy: 0.6220\n",
            "Epoch 13/50\n",
            "100/100 [==============================] - 57s 574ms/step - loss: 0.8488 - accuracy: 0.5888 - val_loss: 0.7137 - val_accuracy: 0.7120\n",
            "Epoch 14/50\n",
            "100/100 [==============================] - 57s 575ms/step - loss: 0.7210 - accuracy: 0.6700 - val_loss: 0.7876 - val_accuracy: 0.6300\n",
            "Epoch 15/50\n",
            "100/100 [==============================] - 57s 574ms/step - loss: 0.7725 - accuracy: 0.6538 - val_loss: 0.6813 - val_accuracy: 0.7420\n",
            "Epoch 16/50\n",
            "100/100 [==============================] - 57s 574ms/step - loss: 0.7738 - accuracy: 0.6475 - val_loss: 0.6559 - val_accuracy: 0.7180\n",
            "Epoch 17/50\n",
            "100/100 [==============================] - 57s 574ms/step - loss: 0.6552 - accuracy: 0.6975 - val_loss: 0.5714 - val_accuracy: 0.7440\n",
            "Epoch 18/50\n",
            "100/100 [==============================] - 57s 573ms/step - loss: 0.6173 - accuracy: 0.7362 - val_loss: 0.5455 - val_accuracy: 0.7700\n",
            "Epoch 19/50\n",
            "100/100 [==============================] - 57s 575ms/step - loss: 0.6587 - accuracy: 0.7125 - val_loss: 0.4520 - val_accuracy: 0.8120\n",
            "Epoch 20/50\n",
            "100/100 [==============================] - 57s 574ms/step - loss: 0.5734 - accuracy: 0.7688 - val_loss: 0.4513 - val_accuracy: 0.8080\n",
            "Epoch 21/50\n",
            "100/100 [==============================] - 57s 574ms/step - loss: 0.4742 - accuracy: 0.8000 - val_loss: 0.4823 - val_accuracy: 0.8200\n",
            "Epoch 22/50\n",
            "100/100 [==============================] - 57s 574ms/step - loss: 0.5308 - accuracy: 0.7725 - val_loss: 0.4363 - val_accuracy: 0.8040\n",
            "Epoch 23/50\n",
            "100/100 [==============================] - 57s 574ms/step - loss: 0.5386 - accuracy: 0.7538 - val_loss: 0.4197 - val_accuracy: 0.8220\n",
            "Epoch 24/50\n",
            "100/100 [==============================] - 57s 575ms/step - loss: 0.4013 - accuracy: 0.8313 - val_loss: 0.4226 - val_accuracy: 0.8100\n",
            "Epoch 25/50\n",
            "100/100 [==============================] - 57s 574ms/step - loss: 0.3883 - accuracy: 0.8300 - val_loss: 0.3658 - val_accuracy: 0.8340\n",
            "Epoch 26/50\n",
            "100/100 [==============================] - 57s 574ms/step - loss: 0.4723 - accuracy: 0.7862 - val_loss: 0.3507 - val_accuracy: 0.8420\n",
            "Epoch 27/50\n",
            "100/100 [==============================] - 57s 575ms/step - loss: 0.3726 - accuracy: 0.8487 - val_loss: 0.3211 - val_accuracy: 0.8560\n",
            "Epoch 28/50\n",
            "100/100 [==============================] - 57s 574ms/step - loss: 0.3856 - accuracy: 0.8175 - val_loss: 0.3236 - val_accuracy: 0.8460\n",
            "Epoch 29/50\n",
            "100/100 [==============================] - 57s 575ms/step - loss: 0.3484 - accuracy: 0.8338 - val_loss: 0.3146 - val_accuracy: 0.8640\n",
            "Epoch 30/50\n",
            "100/100 [==============================] - 57s 575ms/step - loss: 0.4276 - accuracy: 0.8188 - val_loss: 0.3204 - val_accuracy: 0.8560\n",
            "Epoch 31/50\n",
            "100/100 [==============================] - 57s 575ms/step - loss: 0.3346 - accuracy: 0.8375 - val_loss: 0.3267 - val_accuracy: 0.8500\n",
            "Epoch 32/50\n",
            "100/100 [==============================] - 57s 574ms/step - loss: 0.4000 - accuracy: 0.8263 - val_loss: 0.2647 - val_accuracy: 0.8660\n",
            "Epoch 33/50\n",
            "100/100 [==============================] - 57s 574ms/step - loss: 0.3316 - accuracy: 0.8425 - val_loss: 0.2888 - val_accuracy: 0.8480\n",
            "Epoch 34/50\n",
            "100/100 [==============================] - 57s 575ms/step - loss: 0.3069 - accuracy: 0.8612 - val_loss: 0.3014 - val_accuracy: 0.8540\n",
            "Epoch 35/50\n",
            "100/100 [==============================] - 57s 574ms/step - loss: 0.3232 - accuracy: 0.8438 - val_loss: 0.3581 - val_accuracy: 0.8280\n",
            "Epoch 36/50\n",
            "100/100 [==============================] - 57s 573ms/step - loss: 0.3590 - accuracy: 0.8200 - val_loss: 0.3081 - val_accuracy: 0.8460\n",
            "Epoch 37/50\n",
            "100/100 [==============================] - 57s 574ms/step - loss: 0.3355 - accuracy: 0.8300 - val_loss: 0.2654 - val_accuracy: 0.8700\n",
            "Epoch 38/50\n",
            "100/100 [==============================] - 57s 575ms/step - loss: 0.2821 - accuracy: 0.8575 - val_loss: 0.2456 - val_accuracy: 0.8680\n",
            "Epoch 39/50\n",
            "100/100 [==============================] - 57s 574ms/step - loss: 0.3331 - accuracy: 0.8250 - val_loss: 0.2690 - val_accuracy: 0.8500\n",
            "Epoch 40/50\n",
            "100/100 [==============================] - 57s 574ms/step - loss: 0.3136 - accuracy: 0.8438 - val_loss: 0.2721 - val_accuracy: 0.8740\n",
            "Epoch 41/50\n",
            "100/100 [==============================] - 57s 572ms/step - loss: 0.3566 - accuracy: 0.8225 - val_loss: 0.3072 - val_accuracy: 0.8540\n",
            "Epoch 42/50\n",
            "100/100 [==============================] - 57s 574ms/step - loss: 0.3573 - accuracy: 0.8225 - val_loss: 0.3048 - val_accuracy: 0.8740\n",
            "Epoch 43/50\n",
            "100/100 [==============================] - 57s 575ms/step - loss: 0.2995 - accuracy: 0.8600 - val_loss: 0.2724 - val_accuracy: 0.8620\n",
            "Epoch 44/50\n",
            "100/100 [==============================] - 57s 575ms/step - loss: 0.2866 - accuracy: 0.8425 - val_loss: 0.2408 - val_accuracy: 0.8760\n",
            "Epoch 45/50\n",
            "100/100 [==============================] - 57s 574ms/step - loss: 0.3279 - accuracy: 0.8350 - val_loss: 0.3017 - val_accuracy: 0.8480\n",
            "Epoch 46/50\n",
            "100/100 [==============================] - 57s 575ms/step - loss: 0.3282 - accuracy: 0.8413 - val_loss: 0.3057 - val_accuracy: 0.8520\n",
            "Epoch 47/50\n",
            "100/100 [==============================] - 57s 574ms/step - loss: 0.3152 - accuracy: 0.8375 - val_loss: 0.3013 - val_accuracy: 0.8500\n",
            "Epoch 48/50\n",
            "100/100 [==============================] - 57s 574ms/step - loss: 0.3114 - accuracy: 0.8350 - val_loss: 0.2551 - val_accuracy: 0.8660\n",
            "Epoch 49/50\n",
            "100/100 [==============================] - 57s 574ms/step - loss: 0.2727 - accuracy: 0.8537 - val_loss: 0.2752 - val_accuracy: 0.8640\n",
            "Epoch 50/50\n",
            " 99/100 [============================>.] - ETA: 0s - loss: 0.3365 - accuracy: 0.8217"
          ]
        },
        {
          "output_type": "stream",
          "name": "stderr",
          "text": [
            "WARNING:tensorflow:Your input ran out of data; interrupting training. Make sure that your dataset or generator can generate at least `steps_per_epoch * epochs` batches (in this case, 5000 batches). You may need to use the repeat() function when building your dataset.\n"
          ]
        },
        {
          "output_type": "stream",
          "name": "stdout",
          "text": [
            "\b\b\b\b\b\b\b\b\b\b\b\b\b\b\b\b\b\b\b\b\b\b\b\b\b\b\b\b\b\b\b\b\b\b\b\b\b\b\b\b\b\b\b\b\b\b\b\b\b\b\b\b\b\b\b\b\b\b\b\b\b\b\b\b\b\b\b\b\b\b\b\b\b\b\b\b\b\b\b\b\b\b\b\b\r100/100 [==============================] - 57s 567ms/step - loss: 0.3365 - accuracy: 0.8217 - val_loss: 0.2901 - val_accuracy: 0.8420\n"
          ]
        }
      ],
      "source": [
        "model.compile(\n",
        "    optimizer = tf.keras.optimizers.Adam(learning_rate=5e-5),\n",
        "    loss=tf.keras.losses.SparseCategoricalCrossentropy(from_logits=True),\n",
        "    metrics=[\"accuracy\"],\n",
        ")\n",
        "\n",
        "history = model.fit(train_dataset, validation_data=validation_dataset, epochs=50, batch_size=3, steps_per_epoch=100)"
      ]
    },
    {
      "cell_type": "markdown",
      "source": [
        "---\n",
        "\n",
        "# Model Saving:\n",
        "\n",
        "---\n"
      ],
      "metadata": {
        "id": "fPSOAb5HkzJD"
      }
    },
    {
      "cell_type": "code",
      "source": [
        "base_dir = \"distilbert_v2\"\n",
        "\n",
        "os.mkdir(base_dir)\n",
        "\n",
        "with open(os.path.join(base_dir, \"history.json\"), \"w\") as fp:\n",
        "  history = json.dump(model.history.history, fp)\n",
        "  \n",
        "os.mkdir(os.path.join(base_dir, \"weights\"))\n",
        "model.save_weights(os.path.join(base_dir, \"weights\", base_dir), save_format=\"tf\")"
      ],
      "metadata": {
        "id": "dl6w95Zgtd91"
      },
      "execution_count": null,
      "outputs": []
    },
    {
      "cell_type": "code",
      "source": [
        "shutil.make_archive(base_dir, 'zip', base_dir)"
      ],
      "metadata": {
        "id": "8FK52AaxkI1T",
        "colab": {
          "base_uri": "https://localhost:8080/",
          "height": 35
        },
        "outputId": "86c6084a-35d5-4bfc-cc8a-cd0fd7393f0f"
      },
      "execution_count": null,
      "outputs": [
        {
          "output_type": "execute_result",
          "data": {
            "text/plain": [
              "'/content/distilbert_v2.zip'"
            ],
            "application/vnd.google.colaboratory.intrinsic+json": {
              "type": "string"
            }
          },
          "metadata": {},
          "execution_count": 45
        }
      ]
    },
    {
      "cell_type": "code",
      "source": [
        "# from google.colab import drive\n",
        "# drive.mount('/content/gdrive',force_remount=True)"
      ],
      "metadata": {
        "colab": {
          "base_uri": "https://localhost:8080/"
        },
        "id": "GZUHhbuY6U92",
        "outputId": "b6e6a65d-503e-48c6-ad4e-1418e49aeefd"
      },
      "execution_count": null,
      "outputs": [
        {
          "output_type": "stream",
          "name": "stdout",
          "text": [
            "Mounted at /content/gdrive\n"
          ]
        }
      ]
    },
    {
      "cell_type": "code",
      "source": [
        "# !cp \"distilbert_v2.zip\" '/content/gdrive/My Drive/FutureMakers2022/Models'"
      ],
      "metadata": {
        "id": "Vj0-dZ396f5v"
      },
      "execution_count": null,
      "outputs": []
    },
    {
      "cell_type": "markdown",
      "source": [
        "---\n",
        "\n",
        "#Model Loading:\n",
        "\n",
        "---\n",
        "(if starting here, remember to run the pip, import, data, and model def cells first!)"
      ],
      "metadata": {
        "id": "H7HotDu7hLGD"
      }
    },
    {
      "cell_type": "code",
      "source": [
        "!wget \"https://docs.google.com/uc?export=download&id=1-0PA2XTdJhZxDvqSf5xj1TaxcQpM-U2z&confirm=t&uuid=68b827df-d38d-4f34-a034-385b88b67a08\" -O \"distilbert_v2.zip\""
      ],
      "metadata": {
        "id": "eXhw0xeBldci",
        "colab": {
          "base_uri": "https://localhost:8080/"
        },
        "outputId": "cb74171a-6d36-4778-ce70-2cb9ff3ae0fd"
      },
      "execution_count": null,
      "outputs": [
        {
          "output_type": "stream",
          "name": "stdout",
          "text": [
            "--2022-08-11 04:46:52--  https://docs.google.com/uc?export=download&id=1-0PA2XTdJhZxDvqSf5xj1TaxcQpM-U2z&confirm=t&uuid=68b827df-d38d-4f34-a034-385b88b67a08\n",
            "Resolving docs.google.com (docs.google.com)... 74.125.20.102, 74.125.20.100, 74.125.20.113, ...\n",
            "Connecting to docs.google.com (docs.google.com)|74.125.20.102|:443... connected.\n",
            "HTTP request sent, awaiting response... 303 See Other\n",
            "Location: https://doc-0s-08-docs.googleusercontent.com/docs/securesc/ha0ro937gcuc7l7deffksulhg5h7mbp1/bhdavd912sjo7lqa5gvbe5pvb0qa1bq9/1660193175000/07524398318767206543/*/1-0PA2XTdJhZxDvqSf5xj1TaxcQpM-U2z?e=download&uuid=68b827df-d38d-4f34-a034-385b88b67a08 [following]\n",
            "Warning: wildcards not supported in HTTP.\n",
            "--2022-08-11 04:46:52--  https://doc-0s-08-docs.googleusercontent.com/docs/securesc/ha0ro937gcuc7l7deffksulhg5h7mbp1/bhdavd912sjo7lqa5gvbe5pvb0qa1bq9/1660193175000/07524398318767206543/*/1-0PA2XTdJhZxDvqSf5xj1TaxcQpM-U2z?e=download&uuid=68b827df-d38d-4f34-a034-385b88b67a08\n",
            "Resolving doc-0s-08-docs.googleusercontent.com (doc-0s-08-docs.googleusercontent.com)... 74.125.142.132, 2607:f8b0:400e:c08::84\n",
            "Connecting to doc-0s-08-docs.googleusercontent.com (doc-0s-08-docs.googleusercontent.com)|74.125.142.132|:443... connected.\n",
            "HTTP request sent, awaiting response... 200 OK\n",
            "Length: 678028704 (647M) [application/zip]\n",
            "Saving to: ‘distilbert_v2.zip’\n",
            "\n",
            "distilbert_v2.zip   100%[===================>] 646.62M   190MB/s    in 3.4s    \n",
            "\n",
            "2022-08-11 04:46:56 (188 MB/s) - ‘distilbert_v2.zip’ saved [678028704/678028704]\n",
            "\n"
          ]
        }
      ]
    },
    {
      "cell_type": "code",
      "source": [
        "base_name = \"distilbert_v2\"\n",
        "\n",
        "with zipfile.ZipFile(f\"{base_name}.zip\") as zf:\n",
        "  os.mkdir(base_name)\n",
        "  zf.extractall(base_name)"
      ],
      "metadata": {
        "id": "CwTeoh_Bqd6Q"
      },
      "execution_count": null,
      "outputs": []
    },
    {
      "cell_type": "code",
      "execution_count": null,
      "metadata": {
        "id": "fm02FtzankiA",
        "colab": {
          "base_uri": "https://localhost:8080/"
        },
        "outputId": "f8a0f979-a702-40f5-9c02-ff97b98ddfcb"
      },
      "outputs": [
        {
          "output_type": "stream",
          "name": "stdout",
          "text": [
            "Model: \"bert_tokenizer_classifier_combined\"\n",
            "_________________________________________________________________\n",
            " Layer (type)                Output Shape              Param #   \n",
            "=================================================================\n",
            " tf_bert_tokenizer (TFBertTo  multiple                 0         \n",
            " kenizer)                                                        \n",
            "                                                                 \n",
            " tf_distil_bert_for_sequence  multiple                 66955779  \n",
            " _classification (TFDistilBe                                     \n",
            " rtForSequenceClassification                                     \n",
            " )                                                               \n",
            "                                                                 \n",
            "=================================================================\n",
            "Total params: 66,955,779\n",
            "Trainable params: 66,955,779\n",
            "Non-trainable params: 0\n",
            "_________________________________________________________________\n",
            "{'input_ids': <tf.Tensor 'bert_tokenizer_classifier_combined/tf_bert_tokenizer/pad_model_inputs/RaggedToTensor/RaggedTensorToTensor:0' shape=(None, None) dtype=int64>, 'attention_mask': <tf.Tensor 'bert_tokenizer_classifier_combined/tf_bert_tokenizer/pad_model_inputs/RaggedToTensor_1/RaggedTensorToTensor:0' shape=(None, None) dtype=int64>}\n",
            "TFSequenceClassifierOutput(loss=None, logits=<tf.Tensor 'bert_tokenizer_classifier_combined/tf_distil_bert_for_sequence_classification/classifier/BiasAdd:0' shape=(None, 3) dtype=float32>, hidden_states=None, attentions=None)\n",
            "{'input_ids': <tf.Tensor 'bert_tokenizer_classifier_combined/tf_bert_tokenizer/pad_model_inputs/RaggedToTensor/RaggedTensorToTensor:0' shape=(None, None) dtype=int64>, 'attention_mask': <tf.Tensor 'bert_tokenizer_classifier_combined/tf_bert_tokenizer/pad_model_inputs/RaggedToTensor_1/RaggedTensorToTensor:0' shape=(None, None) dtype=int64>}\n",
            "TFSequenceClassifierOutput(loss=None, logits=<tf.Tensor 'bert_tokenizer_classifier_combined/tf_distil_bert_for_sequence_classification/classifier/BiasAdd:0' shape=(None, 3) dtype=float32>, hidden_states=None, attentions=None)\n",
            "63/63 [==============================] - 17s 180ms/step - loss: 0.3058 - accuracy: 0.8280\n"
          ]
        },
        {
          "output_type": "execute_result",
          "data": {
            "text/plain": [
              "[0.30584999918937683, 0.828000009059906]"
            ]
          },
          "metadata": {},
          "execution_count": 52
        }
      ],
      "source": [
        "model.load_weights(os.path.join(base_name, \"weights\", f\"{base_name}\"))\n",
        "# model.load_weights(\"new_weights/bert_weights_2\")\n",
        "model.summary()\n",
        "model.compile(\n",
        "    optimizer = tf.keras.optimizers.Adam(learning_rate=5e-5),\n",
        "    loss=tf.keras.losses.SparseCategoricalCrossentropy(from_logits=True),\n",
        "    metrics=[\"accuracy\"],\n",
        "    )\n",
        "\n",
        "model.evaluate(validation_dataset)"
      ]
    },
    {
      "cell_type": "code",
      "execution_count": null,
      "metadata": {
        "id": "gVKWgNZeP3zX",
        "colab": {
          "base_uri": "https://localhost:8080/",
          "height": 422
        },
        "outputId": "35e433fc-546a-4d82-9b9c-ce1b594d12d8"
      },
      "outputs": [
        {
          "output_type": "execute_result",
          "data": {
            "text/plain": [
              "<matplotlib.legend.Legend at 0x7f1e10890d50>"
            ]
          },
          "metadata": {},
          "execution_count": 24
        },
        {
          "output_type": "display_data",
          "data": {
            "text/plain": [
              "<Figure size 864x432 with 2 Axes>"
            ],
            "image/png": "[encoded data removed]"
          },
          "metadata": {
            "needs_background": "light"
          }
        }
      ],
      "source": [
        "import matplotlib.pyplot as plt\n",
        "\n",
        "with open(os.path.join(base_name, \"history.json\")) as fp:\n",
        "  history = json.load(fp)\n",
        "\n",
        "fig, plots = plt.subplots(1, 2)\n",
        "fig.set_size_inches(12, 6)\n",
        "\n",
        "loss_plot = plots[0]\n",
        "acc_plot = plots[1]\n",
        "\n",
        "loss_plot.set_ylim((0, 1.1))\n",
        "acc_plot.set_ylim((0, 1.1))\n",
        "\n",
        "loss_plot.set_title(\"Loss\")\n",
        "loss_plot.set(xlabel=\"Epochs\", ylabel=\"Loss (SparseCategoricalCrossentropy)\")\n",
        "loss_plot.plot(history[\"loss\"], label=\"train loss\")\n",
        "loss_plot.plot(history[\"val_loss\"], label=\"val loss\")\n",
        "loss_plot.legend()\n",
        "\n",
        "acc_plot.set_title(\"Accuracy\")\n",
        "acc_plot.set(xlabel=\"Epochs\", ylabel=\"Accuracy\")\n",
        "acc_plot.plot(history[\"accuracy\"], label=\"train accuracy\")\n",
        "acc_plot.plot(history[\"val_accuracy\"], label=\"val accuracy\")\n",
        "acc_plot.legend()"
      ]
    },
    {
      "cell_type": "markdown",
      "source": [
        "---\n",
        "\n",
        "# (Attempts to) Convert Model to Tflite:\n",
        "\n",
        "---"
      ],
      "metadata": {
        "id": "g35r-BEI0in3"
      }
    },
    {
      "cell_type": "code",
      "execution_count": null,
      "metadata": {
        "id": "3kppjk7LrTII"
      },
      "outputs": [],
      "source": [
        "# model.build([None])\n",
        "\n",
        "# converter = tf.lite.TFLiteConverter.from_keras_model(model)\n",
        "# tflite_model = converter.convert()\n",
        "# print(tflite_model)\n",
        "\n",
        "# with open('distilbert_test.tflite', 'wb') as f:\n",
        "#   f.write(tflite_model)"
      ]
    },
    {
      "cell_type": "code",
      "source": [
        "# interpreter = tf.lite.Interpreter(\"bert_test_2.tflite\")\n",
        "# interpreter.allocate_tensors()\n",
        "\n",
        "# input_details = interpreter.get_input_details()\n",
        "# print(input_details)\n",
        "# output_details = interpreter.get_output_details()\n",
        "# print(output_details)\n",
        "\n",
        "# print(interpreter.get_signature_list())\n",
        "\n",
        "# interpreter.set_tensor(input_details[0]['index'], [\"Hello World!\"])\n",
        "# interpreter.invoke()\n",
        "\n",
        "# output_data = interpreter.get_tensor(output_details[0]['index'])\n",
        "# print(output_data)"
      ],
      "metadata": {
        "id": "qK9-85OCGSDf"
      },
      "execution_count": null,
      "outputs": []
    },
    {
      "cell_type": "markdown",
      "source": [
        "---\n",
        "\n",
        "# Deployment Sample:\n",
        "\n",
        "---\n"
      ],
      "metadata": {
        "id": "bRb75NpfYqZp"
      }
    },
    {
      "cell_type": "code",
      "source": [
        "!pip install trafilatura\n",
        "!pip install transformers\n",
        "!pip install -U tensorflow-text\n",
        "!pip install requests  # extra dependency but it makes life easy "
      ],
      "metadata": {
        "id": "BFwPNG9tYqI5",
        "colab": {
          "base_uri": "https://localhost:8080/",
          "height": 1000
        },
        "outputId": "d121bbfe-88b5-4730-e453-8d8cb1a2d8ee"
      },
      "execution_count": null,
      "outputs": [
        {
          "output_type": "stream",
          "name": "stdout",
          "text": [
            "Looking in indexes: https://pypi.org/simple, https://us-python.pkg.dev/colab-wheels/public/simple/\n",
            "Collecting trafilatura\n",
            "  Downloading trafilatura-1.3.0-py3-none-any.whl (1.0 MB)\n",
            "\u001b[K     |████████████████████████████████| 1.0 MB 7.9 MB/s \n",
            "\u001b[?25hRequirement already satisfied: lxml>=4.6.4 in /usr/local/lib/python3.7/dist-packages (from trafilatura) (4.9.1)\n",
            "Collecting htmldate>=1.3.0\n",
            "  Downloading htmldate-1.3.0-py3-none-any.whl (32 kB)\n",
            "Collecting justext>=3.0.0\n",
            "  Downloading jusText-3.0.0-py2.py3-none-any.whl (837 kB)\n",
            "\u001b[K     |████████████████████████████████| 837 kB 52.4 MB/s \n",
            "\u001b[?25hCollecting urllib3<2,>=1.26\n",
            "  Downloading urllib3-1.26.11-py2.py3-none-any.whl (139 kB)\n",
            "\u001b[K     |████████████████████████████████| 139 kB 65.2 MB/s \n",
            "\u001b[?25hRequirement already satisfied: charset-normalizer>=2.1.0 in /usr/local/lib/python3.7/dist-packages (from trafilatura) (2.1.0)\n",
            "Requirement already satisfied: certifi in /usr/local/lib/python3.7/dist-packages (from trafilatura) (2022.6.15)\n",
            "Collecting courlan>=0.8.3\n",
            "  Downloading courlan-0.8.3-py3-none-any.whl (34 kB)\n",
            "Collecting tld>=0.12.6\n",
            "  Downloading tld-0.12.6-py37-none-any.whl (412 kB)\n",
            "\u001b[K     |████████████████████████████████| 412 kB 55.4 MB/s \n",
            "\u001b[?25hRequirement already satisfied: langcodes>=3.3.0 in /usr/local/lib/python3.7/dist-packages (from courlan>=0.8.3->trafilatura) (3.3.0)\n",
            "Requirement already satisfied: python-dateutil>=2.8.2 in /usr/local/lib/python3.7/dist-packages (from htmldate>=1.3.0->trafilatura) (2.8.2)\n",
            "Collecting dateparser>=1.1.1\n",
            "  Downloading dateparser-1.1.1-py2.py3-none-any.whl (288 kB)\n",
            "\u001b[K     |████████████████████████████████| 288 kB 74.7 MB/s \n",
            "\u001b[?25hRequirement already satisfied: pytz in /usr/local/lib/python3.7/dist-packages (from dateparser>=1.1.1->htmldate>=1.3.0->trafilatura) (2022.1)\n",
            "Requirement already satisfied: tzlocal in /usr/local/lib/python3.7/dist-packages (from dateparser>=1.1.1->htmldate>=1.3.0->trafilatura) (1.5.1)\n",
            "Collecting regex!=2019.02.19,!=2021.8.27,<2022.3.15\n",
            "  Downloading regex-2022.3.2-cp37-cp37m-manylinux_2_17_x86_64.manylinux2014_x86_64.whl (749 kB)\n",
            "\u001b[K     |████████████████████████████████| 749 kB 60.3 MB/s \n",
            "\u001b[?25hRequirement already satisfied: six>=1.5 in /usr/local/lib/python3.7/dist-packages (from python-dateutil>=2.8.2->htmldate>=1.3.0->trafilatura) (1.15.0)\n",
            "Installing collected packages: regex, urllib3, tld, dateparser, justext, htmldate, courlan, trafilatura\n",
            "  Attempting uninstall: regex\n",
            "    Found existing installation: regex 2022.6.2\n",
            "    Uninstalling regex-2022.6.2:\n",
            "      Successfully uninstalled regex-2022.6.2\n",
            "  Attempting uninstall: urllib3\n",
            "    Found existing installation: urllib3 1.24.3\n",
            "    Uninstalling urllib3-1.24.3:\n",
            "      Successfully uninstalled urllib3-1.24.3\n",
            "\u001b[31mERROR: pip's dependency resolver does not currently take into account all the packages that are installed. This behaviour is the source of the following dependency conflicts.\n",
            "requests 2.23.0 requires urllib3!=1.25.0,!=1.25.1,<1.26,>=1.21.1, but you have urllib3 1.26.11 which is incompatible.\u001b[0m\n",
            "Successfully installed courlan-0.8.3 dateparser-1.1.1 htmldate-1.3.0 justext-3.0.0 regex-2022.3.2 tld-0.12.6 trafilatura-1.3.0 urllib3-1.26.11\n"
          ]
        },
        {
          "output_type": "display_data",
          "data": {
            "application/vnd.colab-display-data+json": {
              "pip_warning": {
                "packages": [
                  "regex",
                  "urllib3"
                ]
              }
            }
          },
          "metadata": {}
        },
        {
          "output_type": "stream",
          "name": "stdout",
          "text": [
            "Looking in indexes: https://pypi.org/simple, https://us-python.pkg.dev/colab-wheels/public/simple/\n",
            "Requirement already satisfied: transformers in /usr/local/lib/python3.7/dist-packages (4.21.1)\n",
            "Requirement already satisfied: regex!=2019.12.17 in /usr/local/lib/python3.7/dist-packages (from transformers) (2022.3.2)\n",
            "Requirement already satisfied: tqdm>=4.27 in /usr/local/lib/python3.7/dist-packages (from transformers) (4.64.0)\n",
            "Requirement already satisfied: pyyaml>=5.1 in /usr/local/lib/python3.7/dist-packages (from transformers) (6.0)\n",
            "Requirement already satisfied: tokenizers!=0.11.3,<0.13,>=0.11.1 in /usr/local/lib/python3.7/dist-packages (from transformers) (0.12.1)\n",
            "Requirement already satisfied: huggingface-hub<1.0,>=0.1.0 in /usr/local/lib/python3.7/dist-packages (from transformers) (0.8.1)\n",
            "Requirement already satisfied: importlib-metadata in /usr/local/lib/python3.7/dist-packages (from transformers) (4.12.0)\n",
            "Requirement already satisfied: numpy>=1.17 in /usr/local/lib/python3.7/dist-packages (from transformers) (1.21.6)\n",
            "Requirement already satisfied: requests in /usr/local/lib/python3.7/dist-packages (from transformers) (2.23.0)\n",
            "Requirement already satisfied: packaging>=20.0 in /usr/local/lib/python3.7/dist-packages (from transformers) (21.3)\n",
            "Requirement already satisfied: filelock in /usr/local/lib/python3.7/dist-packages (from transformers) (3.7.1)\n",
            "Requirement already satisfied: typing-extensions>=3.7.4.3 in /usr/local/lib/python3.7/dist-packages (from huggingface-hub<1.0,>=0.1.0->transformers) (4.1.1)\n",
            "Requirement already satisfied: pyparsing!=3.0.5,>=2.0.2 in /usr/local/lib/python3.7/dist-packages (from packaging>=20.0->transformers) (3.0.9)\n",
            "Requirement already satisfied: zipp>=0.5 in /usr/local/lib/python3.7/dist-packages (from importlib-metadata->transformers) (3.8.1)\n",
            "Collecting urllib3!=1.25.0,!=1.25.1,<1.26,>=1.21.1\n",
            "  Downloading urllib3-1.25.11-py2.py3-none-any.whl (127 kB)\n",
            "\u001b[K     |████████████████████████████████| 127 kB 9.8 MB/s \n",
            "\u001b[?25hRequirement already satisfied: idna<3,>=2.5 in /usr/local/lib/python3.7/dist-packages (from requests->transformers) (2.10)\n",
            "Requirement already satisfied: certifi>=2017.4.17 in /usr/local/lib/python3.7/dist-packages (from requests->transformers) (2022.6.15)\n",
            "Requirement already satisfied: chardet<4,>=3.0.2 in /usr/local/lib/python3.7/dist-packages (from requests->transformers) (3.0.4)\n",
            "Installing collected packages: urllib3\n",
            "  Attempting uninstall: urllib3\n",
            "    Found existing installation: urllib3 1.26.11\n",
            "    Uninstalling urllib3-1.26.11:\n",
            "      Successfully uninstalled urllib3-1.26.11\n",
            "\u001b[31mERROR: pip's dependency resolver does not currently take into account all the packages that are installed. This behaviour is the source of the following dependency conflicts.\n",
            "trafilatura 1.3.0 requires urllib3<2,>=1.26, but you have urllib3 1.25.11 which is incompatible.\n",
            "htmldate 1.3.0 requires urllib3<2,>=1.26, but you have urllib3 1.25.11 which is incompatible.\n",
            "courlan 0.8.3 requires urllib3<2,>=1.26, but you have urllib3 1.25.11 which is incompatible.\u001b[0m\n",
            "Successfully installed urllib3-1.25.11\n"
          ]
        },
        {
          "output_type": "display_data",
          "data": {
            "application/vnd.colab-display-data+json": {
              "pip_warning": {
                "packages": [
                  "urllib3"
                ]
              }
            }
          },
          "metadata": {}
        },
        {
          "output_type": "stream",
          "name": "stdout",
          "text": [
            "Looking in indexes: https://pypi.org/simple, https://us-python.pkg.dev/colab-wheels/public/simple/\n",
            "Requirement already satisfied: tensorflow-text in /usr/local/lib/python3.7/dist-packages (2.9.0)\n",
            "Requirement already satisfied: tensorflow-hub>=0.8.0 in /usr/local/lib/python3.7/dist-packages (from tensorflow-text) (0.12.0)\n",
            "Requirement already satisfied: tensorflow<2.10,>=2.9.0 in /usr/local/lib/python3.7/dist-packages (from tensorflow-text) (2.9.1)\n",
            "Requirement already satisfied: termcolor>=1.1.0 in /usr/local/lib/python3.7/dist-packages (from tensorflow<2.10,>=2.9.0->tensorflow-text) (1.1.0)\n",
            "Requirement already satisfied: h5py>=2.9.0 in /usr/local/lib/python3.7/dist-packages (from tensorflow<2.10,>=2.9.0->tensorflow-text) (3.1.0)\n",
            "Requirement already satisfied: gast<=0.4.0,>=0.2.1 in /usr/local/lib/python3.7/dist-packages (from tensorflow<2.10,>=2.9.0->tensorflow-text) (0.4.0)\n",
            "Requirement already satisfied: tensorflow-estimator<2.10.0,>=2.9.0rc0 in /usr/local/lib/python3.7/dist-packages (from tensorflow<2.10,>=2.9.0->tensorflow-text) (2.9.0)\n",
            "Requirement already satisfied: opt-einsum>=2.3.2 in /usr/local/lib/python3.7/dist-packages (from tensorflow<2.10,>=2.9.0->tensorflow-text) (3.3.0)\n",
            "Requirement already satisfied: protobuf<3.20,>=3.9.2 in /usr/local/lib/python3.7/dist-packages (from tensorflow<2.10,>=2.9.0->tensorflow-text) (3.17.3)\n",
            "Requirement already satisfied: numpy>=1.20 in /usr/local/lib/python3.7/dist-packages (from tensorflow<2.10,>=2.9.0->tensorflow-text) (1.21.6)\n",
            "Requirement already satisfied: packaging in /usr/local/lib/python3.7/dist-packages (from tensorflow<2.10,>=2.9.0->tensorflow-text) (21.3)\n",
            "Requirement already satisfied: absl-py>=1.0.0 in /usr/local/lib/python3.7/dist-packages (from tensorflow<2.10,>=2.9.0->tensorflow-text) (1.2.0)\n",
            "Requirement already satisfied: tensorflow-io-gcs-filesystem>=0.23.1 in /usr/local/lib/python3.7/dist-packages (from tensorflow<2.10,>=2.9.0->tensorflow-text) (0.26.0)\n",
            "Requirement already satisfied: setuptools in /usr/local/lib/python3.7/dist-packages (from tensorflow<2.10,>=2.9.0->tensorflow-text) (57.4.0)\n",
            "Requirement already satisfied: astunparse>=1.6.0 in /usr/local/lib/python3.7/dist-packages (from tensorflow<2.10,>=2.9.0->tensorflow-text) (1.6.3)\n",
            "Requirement already satisfied: typing-extensions>=3.6.6 in /usr/local/lib/python3.7/dist-packages (from tensorflow<2.10,>=2.9.0->tensorflow-text) (4.1.1)\n",
            "Requirement already satisfied: keras<2.10.0,>=2.9.0rc0 in /usr/local/lib/python3.7/dist-packages (from tensorflow<2.10,>=2.9.0->tensorflow-text) (2.9.0)\n",
            "Requirement already satisfied: grpcio<2.0,>=1.24.3 in /usr/local/lib/python3.7/dist-packages (from tensorflow<2.10,>=2.9.0->tensorflow-text) (1.47.0)\n",
            "Requirement already satisfied: flatbuffers<2,>=1.12 in /usr/local/lib/python3.7/dist-packages (from tensorflow<2.10,>=2.9.0->tensorflow-text) (1.12)\n",
            "Requirement already satisfied: tensorboard<2.10,>=2.9 in /usr/local/lib/python3.7/dist-packages (from tensorflow<2.10,>=2.9.0->tensorflow-text) (2.9.1)\n",
            "Requirement already satisfied: wrapt>=1.11.0 in /usr/local/lib/python3.7/dist-packages (from tensorflow<2.10,>=2.9.0->tensorflow-text) (1.14.1)\n",
            "Requirement already satisfied: six>=1.12.0 in /usr/local/lib/python3.7/dist-packages (from tensorflow<2.10,>=2.9.0->tensorflow-text) (1.15.0)\n",
            "Requirement already satisfied: keras-preprocessing>=1.1.1 in /usr/local/lib/python3.7/dist-packages (from tensorflow<2.10,>=2.9.0->tensorflow-text) (1.1.2)\n",
            "Requirement already satisfied: google-pasta>=0.1.1 in /usr/local/lib/python3.7/dist-packages (from tensorflow<2.10,>=2.9.0->tensorflow-text) (0.2.0)\n",
            "Requirement already satisfied: libclang>=13.0.0 in /usr/local/lib/python3.7/dist-packages (from tensorflow<2.10,>=2.9.0->tensorflow-text) (14.0.6)\n",
            "Requirement already satisfied: wheel<1.0,>=0.23.0 in /usr/local/lib/python3.7/dist-packages (from astunparse>=1.6.0->tensorflow<2.10,>=2.9.0->tensorflow-text) (0.37.1)\n",
            "Requirement already satisfied: cached-property in /usr/local/lib/python3.7/dist-packages (from h5py>=2.9.0->tensorflow<2.10,>=2.9.0->tensorflow-text) (1.5.2)\n",
            "Requirement already satisfied: tensorboard-data-server<0.7.0,>=0.6.0 in /usr/local/lib/python3.7/dist-packages (from tensorboard<2.10,>=2.9->tensorflow<2.10,>=2.9.0->tensorflow-text) (0.6.1)\n",
            "Requirement already satisfied: google-auth-oauthlib<0.5,>=0.4.1 in /usr/local/lib/python3.7/dist-packages (from tensorboard<2.10,>=2.9->tensorflow<2.10,>=2.9.0->tensorflow-text) (0.4.6)\n",
            "Requirement already satisfied: werkzeug>=1.0.1 in /usr/local/lib/python3.7/dist-packages (from tensorboard<2.10,>=2.9->tensorflow<2.10,>=2.9.0->tensorflow-text) (1.0.1)\n",
            "Requirement already satisfied: markdown>=2.6.8 in /usr/local/lib/python3.7/dist-packages (from tensorboard<2.10,>=2.9->tensorflow<2.10,>=2.9.0->tensorflow-text) (3.4.1)\n",
            "Requirement already satisfied: tensorboard-plugin-wit>=1.6.0 in /usr/local/lib/python3.7/dist-packages (from tensorboard<2.10,>=2.9->tensorflow<2.10,>=2.9.0->tensorflow-text) (1.8.1)\n",
            "Requirement already satisfied: google-auth<3,>=1.6.3 in /usr/local/lib/python3.7/dist-packages (from tensorboard<2.10,>=2.9->tensorflow<2.10,>=2.9.0->tensorflow-text) (1.35.0)\n",
            "Requirement already satisfied: requests<3,>=2.21.0 in /usr/local/lib/python3.7/dist-packages (from tensorboard<2.10,>=2.9->tensorflow<2.10,>=2.9.0->tensorflow-text) (2.23.0)\n",
            "Requirement already satisfied: rsa<5,>=3.1.4 in /usr/local/lib/python3.7/dist-packages (from google-auth<3,>=1.6.3->tensorboard<2.10,>=2.9->tensorflow<2.10,>=2.9.0->tensorflow-text) (4.9)\n",
            "Requirement already satisfied: cachetools<5.0,>=2.0.0 in /usr/local/lib/python3.7/dist-packages (from google-auth<3,>=1.6.3->tensorboard<2.10,>=2.9->tensorflow<2.10,>=2.9.0->tensorflow-text) (4.2.4)\n",
            "Requirement already satisfied: pyasn1-modules>=0.2.1 in /usr/local/lib/python3.7/dist-packages (from google-auth<3,>=1.6.3->tensorboard<2.10,>=2.9->tensorflow<2.10,>=2.9.0->tensorflow-text) (0.2.8)\n",
            "Requirement already satisfied: requests-oauthlib>=0.7.0 in /usr/local/lib/python3.7/dist-packages (from google-auth-oauthlib<0.5,>=0.4.1->tensorboard<2.10,>=2.9->tensorflow<2.10,>=2.9.0->tensorflow-text) (1.3.1)\n",
            "Requirement already satisfied: importlib-metadata>=4.4 in /usr/local/lib/python3.7/dist-packages (from markdown>=2.6.8->tensorboard<2.10,>=2.9->tensorflow<2.10,>=2.9.0->tensorflow-text) (4.12.0)\n",
            "Requirement already satisfied: zipp>=0.5 in /usr/local/lib/python3.7/dist-packages (from importlib-metadata>=4.4->markdown>=2.6.8->tensorboard<2.10,>=2.9->tensorflow<2.10,>=2.9.0->tensorflow-text) (3.8.1)\n",
            "Requirement already satisfied: pyasn1<0.5.0,>=0.4.6 in /usr/local/lib/python3.7/dist-packages (from pyasn1-modules>=0.2.1->google-auth<3,>=1.6.3->tensorboard<2.10,>=2.9->tensorflow<2.10,>=2.9.0->tensorflow-text) (0.4.8)\n",
            "Requirement already satisfied: certifi>=2017.4.17 in /usr/local/lib/python3.7/dist-packages (from requests<3,>=2.21.0->tensorboard<2.10,>=2.9->tensorflow<2.10,>=2.9.0->tensorflow-text) (2022.6.15)\n",
            "Requirement already satisfied: idna<3,>=2.5 in /usr/local/lib/python3.7/dist-packages (from requests<3,>=2.21.0->tensorboard<2.10,>=2.9->tensorflow<2.10,>=2.9.0->tensorflow-text) (2.10)\n",
            "Requirement already satisfied: chardet<4,>=3.0.2 in /usr/local/lib/python3.7/dist-packages (from requests<3,>=2.21.0->tensorboard<2.10,>=2.9->tensorflow<2.10,>=2.9.0->tensorflow-text) (3.0.4)\n",
            "Requirement already satisfied: urllib3!=1.25.0,!=1.25.1,<1.26,>=1.21.1 in /usr/local/lib/python3.7/dist-packages (from requests<3,>=2.21.0->tensorboard<2.10,>=2.9->tensorflow<2.10,>=2.9.0->tensorflow-text) (1.25.11)\n",
            "Requirement already satisfied: oauthlib>=3.0.0 in /usr/local/lib/python3.7/dist-packages (from requests-oauthlib>=0.7.0->google-auth-oauthlib<0.5,>=0.4.1->tensorboard<2.10,>=2.9->tensorflow<2.10,>=2.9.0->tensorflow-text) (3.2.0)\n",
            "Requirement already satisfied: pyparsing!=3.0.5,>=2.0.2 in /usr/local/lib/python3.7/dist-packages (from packaging->tensorflow<2.10,>=2.9.0->tensorflow-text) (3.0.9)\n",
            "Looking in indexes: https://pypi.org/simple, https://us-python.pkg.dev/colab-wheels/public/simple/\n",
            "Requirement already satisfied: requests in /usr/local/lib/python3.7/dist-packages (2.23.0)\n",
            "Requirement already satisfied: chardet<4,>=3.0.2 in /usr/local/lib/python3.7/dist-packages (from requests) (3.0.4)\n",
            "Requirement already satisfied: certifi>=2017.4.17 in /usr/local/lib/python3.7/dist-packages (from requests) (2022.6.15)\n",
            "Requirement already satisfied: idna<3,>=2.5 in /usr/local/lib/python3.7/dist-packages (from requests) (2.10)\n",
            "Requirement already satisfied: urllib3!=1.25.0,!=1.25.1,<1.26,>=1.21.1 in /usr/local/lib/python3.7/dist-packages (from requests) (1.25.11)\n"
          ]
        }
      ]
    },
    {
      "cell_type": "code",
      "source": [
        "import tensorflow as tf\n",
        "import zipfile\n",
        "import os\n",
        "import trafilatura\n",
        "import http\n",
        "import requests"
      ],
      "metadata": {
        "id": "emjQXStpdNhS"
      },
      "execution_count": null,
      "outputs": []
    },
    {
      "cell_type": "code",
      "source": [
        "# !wget \"https://docs.google.com/uc?export=download&id=1E_ZC-Zmke2HrxeZu24yMTgqn-gQ3cI2K&confirm=t&uuid=68b827df-d38d-4f34-a034-385b88b67a08\" -O \"distilbert_v1.zip\""
      ],
      "metadata": {
        "id": "MdhSgB70ZhS_"
      },
      "execution_count": null,
      "outputs": []
    },
    {
      "cell_type": "code",
      "source": [
        "# Replaces above with python:\n",
        "model_name = \"distilbert_v2\"\n",
        "\n",
        "if not os.path.exists(model_name):\n",
        "  zipped_model = requests.get(\"https://docs.google.com/uc?export=download&id=1E_ZC-Zmke2HrxeZu24yMTgqn-gQ3cI2K&confirm=t&uuid=68b827df-d38d-4f34-a034-385b88b67a08\")\n",
        "  \n",
        "  with open(f\"{model_name}.zip\", \"wb\") as zfp:\n",
        "      zfp.write(zipped_model.content)\n",
        "\n",
        "  with zipfile.ZipFile(f\"distilbert_v1.zip\") as zf:\n",
        "      os.mkdir(\"distilbert_v1\")\n",
        "      zf.extractall(\"distilbert_v1\")"
      ],
      "metadata": {
        "id": "OtRkazG0HZf1"
      },
      "execution_count": null,
      "outputs": []
    },
    {
      "cell_type": "code",
      "source": [
        "from transformers import TFBertTokenizer, TFBertForSequenceClassification, TFDistilBertForSequenceClassification\n",
        "hf_bert_model_path = \"distilbert-base-uncased\"  # https://huggingface.co/bert-base-uncased  Note that there are other BERT models available.\n",
        "\n",
        "\n",
        "tokenizer = TFBertTokenizer.from_pretrained(hf_bert_model_path)  # no TFDistilBertTokenizer, so just use regular bert\n",
        "classifier = TFDistilBertForSequenceClassification.from_pretrained(hf_bert_model_path, num_labels=3)"
      ],
      "metadata": {
        "colab": {
          "base_uri": "https://localhost:8080/"
        },
        "id": "ay8Xp4l5aNC6",
        "outputId": "68fd74b9-7ed1-4266-af0d-10e4198c1592"
      },
      "execution_count": null,
      "outputs": [
        {
          "output_type": "stream",
          "name": "stderr",
          "text": [
            "The tokenizer class you load from this checkpoint is not the same type as the class this function is called from. It may result in unexpected tokenization. \n",
            "The tokenizer class you load from this checkpoint is 'DistilBertTokenizer'. \n",
            "The class this function is called from is 'BertTokenizer'.\n",
            "Some layers from the model checkpoint at distilbert-base-uncased were not used when initializing TFDistilBertForSequenceClassification: ['vocab_transform', 'vocab_projector', 'activation_13', 'vocab_layer_norm']\n",
            "- This IS expected if you are initializing TFDistilBertForSequenceClassification from the checkpoint of a model trained on another task or with another architecture (e.g. initializing a BertForSequenceClassification model from a BertForPreTraining model).\n",
            "- This IS NOT expected if you are initializing TFDistilBertForSequenceClassification from the checkpoint of a model that you expect to be exactly identical (initializing a BertForSequenceClassification model from a BertForSequenceClassification model).\n",
            "Some layers of TFDistilBertForSequenceClassification were not initialized from the model checkpoint at distilbert-base-uncased and are newly initialized: ['classifier', 'dropout_59', 'pre_classifier']\n",
            "You should probably TRAIN this model on a down-stream task to be able to use it for predictions and inference.\n"
          ]
        }
      ]
    },
    {
      "cell_type": "code",
      "source": [
        "# Model code from above - update if changed \n",
        "class BertTokenizerClassifierCombined(tf.keras.Model):\n",
        "  def __init__(self, tokenizer, classifier, output_layer_override=None, *args, **kwargs):\n",
        "    super().__init__(*args, **kwargs)\n",
        "    self.tokenizer = tokenizer\n",
        "    self.classifier = classifier\n",
        "    if output_layer_override is not None:\n",
        "      self.classifier.classifier = output_layer_override  # replace output with custom\n",
        "  \n",
        "  \n",
        "  def call(self, data):\n",
        "    tokenized = self.tokenizer(data)\n",
        "    del tokenized[\"token_type_ids\"]  # for DistilBERT\n",
        "    print(tokenized)\n",
        "    out = self.classifier(**tokenized)\n",
        "    print(out)\n",
        "    return out"
      ],
      "metadata": {
        "id": "qdb2UWvoZoxT"
      },
      "execution_count": null,
      "outputs": []
    },
    {
      "cell_type": "code",
      "source": [
        "loaded_model = BertTokenizerClassifierCombined(tokenizer, classifier)\n",
        "loaded_model.load_weights(f\"{model_name}/weights/{model_name}\")\n",
        "loaded_model([\"Hello World!\"])\n",
        "loaded_model.summary()"
      ],
      "metadata": {
        "colab": {
          "base_uri": "https://localhost:8080/"
        },
        "id": "IMFcQQESZ-dl",
        "outputId": "efab438a-e08e-41c2-88e8-1b17545fb5dc"
      },
      "execution_count": null,
      "outputs": [
        {
          "output_type": "stream",
          "name": "stdout",
          "text": [
            "{'input_ids': <tf.Tensor: shape=(1, 5), dtype=int64, numpy=array([[ 101, 7592, 2088,  999,  102]])>, 'attention_mask': <tf.Tensor: shape=(1, 5), dtype=int64, numpy=array([[1, 1, 1, 1, 1]])>}\n",
            "TFSequenceClassifierOutput(loss=None, logits=<tf.Tensor: shape=(1, 3), dtype=float32, numpy=array([[-0.1755307 , -0.25688237,  0.18532324]], dtype=float32)>, hidden_states=None, attentions=None)\n",
            "Model: \"bert_tokenizer_classifier_combined_6\"\n",
            "_________________________________________________________________\n",
            " Layer (type)                Output Shape              Param #   \n",
            "=================================================================\n",
            " tf_bert_tokenizer_2 (TFBert  multiple                 0         \n",
            " Tokenizer)                                                      \n",
            "                                                                 \n",
            " tf_distil_bert_for_sequence  multiple                 66955779  \n",
            " _classification_2 (TFDistil                                     \n",
            " BertForSequenceClassificati                                     \n",
            " on)                                                             \n",
            "                                                                 \n",
            "=================================================================\n",
            "Total params: 66,955,779\n",
            "Trainable params: 66,955,779\n",
            "Non-trainable params: 0\n",
            "_________________________________________________________________\n"
          ]
        }
      ]
    },
    {
      "cell_type": "code",
      "source": [
        "import requests\n",
        "\n",
        "def run_model(url):\n",
        "  text = trafilatura.extract(requests.get(url).text)\n",
        "  logits = model.predict([text]).logits\n",
        "  print(tf.nn.softmax(logits[0]))  # [democrat score, republican score, center score]\n",
        "  "
      ],
      "metadata": {
        "id": "IbzB-qZDfT7-"
      },
      "execution_count": null,
      "outputs": []
    },
    {
      "cell_type": "code",
      "source": [
        "tf.keras.utils.set_random_seed(3)\n",
        "run_model(\"https://www.foxnews.com/politics/trump-arrives-deposition-new-york-attorney-general-letitia-james-civil-investigation#&_intcmp=hp1r_2,hp1r\")  # [democrat score, republican score, center score]"
      ],
      "metadata": {
        "colab": {
          "base_uri": "https://localhost:8080/"
        },
        "id": "wAASnE7_hvbF",
        "outputId": "ea2792a9-bcf0-4a04-bed6-c25637c43f67"
      },
      "execution_count": null,
      "outputs": [
        {
          "output_type": "stream",
          "name": "stdout",
          "text": [
            "1/1 [==============================] - 1s 997ms/step\n",
            "tf.Tensor([4.5529782e-04 6.1760533e-01 3.8193944e-01], shape=(3,), dtype=float32)\n"
          ]
        }
      ]
    }
  ],
  "metadata": {
    "colab": {
      "collapsed_sections": [],
      "name": "PoliticsNLPBERT_Final.ipynb",
      "provenance": []
    },
    "gpuClass": "standard",
    "kernelspec": {
      "display_name": "Python 3",
      "name": "python3"
    },
    "language_info": {
      "name": "python"
    },
    "accelerator": "GPU",
    "widgets": {
      "application/vnd.jupyter.widget-state+json": {
        "b2e23b6fe5cd4cb385c011b24815403e": {
          "model_module": "@jupyter-widgets/controls",
          "model_name": "HBoxModel",
          "model_module_version": "1.5.0",
          "state": {
            "_dom_classes": [],
            "_model_module": "@jupyter-widgets/controls",
            "_model_module_version": "1.5.0",
            "_model_name": "HBoxModel",
            "_view_count": null,
            "_view_module": "@jupyter-widgets/controls",
            "_view_module_version": "1.5.0",
            "_view_name": "HBoxView",
            "box_style": "",
            "children": [
              "IPY_MODEL_a5cc46b64c7a4c23901ca5e96860d660",
              "IPY_MODEL_383996512976464dba399663b5897ea3",
              "IPY_MODEL_5f967ffad03445f6b905299b922f64ff"
            ],
            "layout": "IPY_MODEL_727a786630eb47aba39c4a8c620e26a7"
          }
        },
        "a5cc46b64c7a4c23901ca5e96860d660": {
          "model_module": "@jupyter-widgets/controls",
          "model_name": "HTMLModel",
          "model_module_version": "1.5.0",
          "state": {
            "_dom_classes": [],
            "_model_module": "@jupyter-widgets/controls",
            "_model_module_version": "1.5.0",
            "_model_name": "HTMLModel",
            "_view_count": null,
            "_view_module": "@jupyter-widgets/controls",
            "_view_module_version": "1.5.0",
            "_view_name": "HTMLView",
            "description": "",
            "description_tooltip": null,
            "layout": "IPY_MODEL_523b7da8252d488da1a9a5addfc7e79b",
            "placeholder": "​",
            "style": "IPY_MODEL_74ffaa429d0e4456a0c8e1272b73fd34",
            "value": "Downloading vocab.txt: 100%"
          }
        },
        "383996512976464dba399663b5897ea3": {
          "model_module": "@jupyter-widgets/controls",
          "model_name": "FloatProgressModel",
          "model_module_version": "1.5.0",
          "state": {
            "_dom_classes": [],
            "_model_module": "@jupyter-widgets/controls",
            "_model_module_version": "1.5.0",
            "_model_name": "FloatProgressModel",
            "_view_count": null,
            "_view_module": "@jupyter-widgets/controls",
            "_view_module_version": "1.5.0",
            "_view_name": "ProgressView",
            "bar_style": "success",
            "description": "",
            "description_tooltip": null,
            "layout": "IPY_MODEL_cb2c8c05c3d94cc1ac05ea545b42e7e0",
            "max": 231508,
            "min": 0,
            "orientation": "horizontal",
            "style": "IPY_MODEL_13c3ea01cf7b4717b822a7f60fcd5b4d",
            "value": 231508
          }
        },
        "5f967ffad03445f6b905299b922f64ff": {
          "model_module": "@jupyter-widgets/controls",
          "model_name": "HTMLModel",
          "model_module_version": "1.5.0",
          "state": {
            "_dom_classes": [],
            "_model_module": "@jupyter-widgets/controls",
            "_model_module_version": "1.5.0",
            "_model_name": "HTMLModel",
            "_view_count": null,
            "_view_module": "@jupyter-widgets/controls",
            "_view_module_version": "1.5.0",
            "_view_name": "HTMLView",
            "description": "",
            "description_tooltip": null,
            "layout": "IPY_MODEL_d55a2066e05543c8af053a3bba5c2cb8",
            "placeholder": "​",
            "style": "IPY_MODEL_ce09378bf2424437b428946d49b23b63",
            "value": " 226k/226k [00:00&lt;00:00, 607kB/s]"
          }
        },
        "727a786630eb47aba39c4a8c620e26a7": {
          "model_module": "@jupyter-widgets/base",
          "model_name": "LayoutModel",
          "model_module_version": "1.2.0",
          "state": {
            "_model_module": "@jupyter-widgets/base",
            "_model_module_version": "1.2.0",
            "_model_name": "LayoutModel",
            "_view_count": null,
            "_view_module": "@jupyter-widgets/base",
            "_view_module_version": "1.2.0",
            "_view_name": "LayoutView",
            "align_content": null,
            "align_items": null,
            "align_self": null,
            "border": null,
            "bottom": null,
            "display": null,
            "flex": null,
            "flex_flow": null,
            "grid_area": null,
            "grid_auto_columns": null,
            "grid_auto_flow": null,
            "grid_auto_rows": null,
            "grid_column": null,
            "grid_gap": null,
            "grid_row": null,
            "grid_template_areas": null,
            "grid_template_columns": null,
            "grid_template_rows": null,
            "height": null,
            "justify_content": null,
            "justify_items": null,
            "left": null,
            "margin": null,
            "max_height": null,
            "max_width": null,
            "min_height": null,
            "min_width": null,
            "object_fit": null,
            "object_position": null,
            "order": null,
            "overflow": null,
            "overflow_x": null,
            "overflow_y": null,
            "padding": null,
            "right": null,
            "top": null,
            "visibility": null,
            "width": null
          }
        },
        "523b7da8252d488da1a9a5addfc7e79b": {
          "model_module": "@jupyter-widgets/base",
          "model_name": "LayoutModel",
          "model_module_version": "1.2.0",
          "state": {
            "_model_module": "@jupyter-widgets/base",
            "_model_module_version": "1.2.0",
            "_model_name": "LayoutModel",
            "_view_count": null,
            "_view_module": "@jupyter-widgets/base",
            "_view_module_version": "1.2.0",
            "_view_name": "LayoutView",
            "align_content": null,
            "align_items": null,
            "align_self": null,
            "border": null,
            "bottom": null,
            "display": null,
            "flex": null,
            "flex_flow": null,
            "grid_area": null,
            "grid_auto_columns": null,
            "grid_auto_flow": null,
            "grid_auto_rows": null,
            "grid_column": null,
            "grid_gap": null,
            "grid_row": null,
            "grid_template_areas": null,
            "grid_template_columns": null,
            "grid_template_rows": null,
            "height": null,
            "justify_content": null,
            "justify_items": null,
            "left": null,
            "margin": null,
            "max_height": null,
            "max_width": null,
            "min_height": null,
            "min_width": null,
            "object_fit": null,
            "object_position": null,
            "order": null,
            "overflow": null,
            "overflow_x": null,
            "overflow_y": null,
            "padding": null,
            "right": null,
            "top": null,
            "visibility": null,
            "width": null
          }
        },
        "74ffaa429d0e4456a0c8e1272b73fd34": {
          "model_module": "@jupyter-widgets/controls",
          "model_name": "DescriptionStyleModel",
          "model_module_version": "1.5.0",
          "state": {
            "_model_module": "@jupyter-widgets/controls",
            "_model_module_version": "1.5.0",
            "_model_name": "DescriptionStyleModel",
            "_view_count": null,
            "_view_module": "@jupyter-widgets/base",
            "_view_module_version": "1.2.0",
            "_view_name": "StyleView",
            "description_width": ""
          }
        },
        "cb2c8c05c3d94cc1ac05ea545b42e7e0": {
          "model_module": "@jupyter-widgets/base",
          "model_name": "LayoutModel",
          "model_module_version": "1.2.0",
          "state": {
            "_model_module": "@jupyter-widgets/base",
            "_model_module_version": "1.2.0",
            "_model_name": "LayoutModel",
            "_view_count": null,
            "_view_module": "@jupyter-widgets/base",
            "_view_module_version": "1.2.0",
            "_view_name": "LayoutView",
            "align_content": null,
            "align_items": null,
            "align_self": null,
            "border": null,
            "bottom": null,
            "display": null,
            "flex": null,
            "flex_flow": null,
            "grid_area": null,
            "grid_auto_columns": null,
            "grid_auto_flow": null,
            "grid_auto_rows": null,
            "grid_column": null,
            "grid_gap": null,
            "grid_row": null,
            "grid_template_areas": null,
            "grid_template_columns": null,
            "grid_template_rows": null,
            "height": null,
            "justify_content": null,
            "justify_items": null,
            "left": null,
            "margin": null,
            "max_height": null,
            "max_width": null,
            "min_height": null,
            "min_width": null,
            "object_fit": null,
            "object_position": null,
            "order": null,
            "overflow": null,
            "overflow_x": null,
            "overflow_y": null,
            "padding": null,
            "right": null,
            "top": null,
            "visibility": null,
            "width": null
          }
        },
        "13c3ea01cf7b4717b822a7f60fcd5b4d": {
          "model_module": "@jupyter-widgets/controls",
          "model_name": "ProgressStyleModel",
          "model_module_version": "1.5.0",
          "state": {
            "_model_module": "@jupyter-widgets/controls",
            "_model_module_version": "1.5.0",
            "_model_name": "ProgressStyleModel",
            "_view_count": null,
            "_view_module": "@jupyter-widgets/base",
            "_view_module_version": "1.2.0",
            "_view_name": "StyleView",
            "bar_color": null,
            "description_width": ""
          }
        },
        "d55a2066e05543c8af053a3bba5c2cb8": {
          "model_module": "@jupyter-widgets/base",
          "model_name": "LayoutModel",
          "model_module_version": "1.2.0",
          "state": {
            "_model_module": "@jupyter-widgets/base",
            "_model_module_version": "1.2.0",
            "_model_name": "LayoutModel",
            "_view_count": null,
            "_view_module": "@jupyter-widgets/base",
            "_view_module_version": "1.2.0",
            "_view_name": "LayoutView",
            "align_content": null,
            "align_items": null,
            "align_self": null,
            "border": null,
            "bottom": null,
            "display": null,
            "flex": null,
            "flex_flow": null,
            "grid_area": null,
            "grid_auto_columns": null,
            "grid_auto_flow": null,
            "grid_auto_rows": null,
            "grid_column": null,
            "grid_gap": null,
            "grid_row": null,
            "grid_template_areas": null,
            "grid_template_columns": null,
            "grid_template_rows": null,
            "height": null,
            "justify_content": null,
            "justify_items": null,
            "left": null,
            "margin": null,
            "max_height": null,
            "max_width": null,
            "min_height": null,
            "min_width": null,
            "object_fit": null,
            "object_position": null,
            "order": null,
            "overflow": null,
            "overflow_x": null,
            "overflow_y": null,
            "padding": null,
            "right": null,
            "top": null,
            "visibility": null,
            "width": null
          }
        },
        "ce09378bf2424437b428946d49b23b63": {
          "model_module": "@jupyter-widgets/controls",
          "model_name": "DescriptionStyleModel",
          "model_module_version": "1.5.0",
          "state": {
            "_model_module": "@jupyter-widgets/controls",
            "_model_module_version": "1.5.0",
            "_model_name": "DescriptionStyleModel",
            "_view_count": null,
            "_view_module": "@jupyter-widgets/base",
            "_view_module_version": "1.2.0",
            "_view_name": "StyleView",
            "description_width": ""
          }
        },
        "34144380949848c2bf73a44e23f5a8d9": {
          "model_module": "@jupyter-widgets/controls",
          "model_name": "HBoxModel",
          "model_module_version": "1.5.0",
          "state": {
            "_dom_classes": [],
            "_model_module": "@jupyter-widgets/controls",
            "_model_module_version": "1.5.0",
            "_model_name": "HBoxModel",
            "_view_count": null,
            "_view_module": "@jupyter-widgets/controls",
            "_view_module_version": "1.5.0",
            "_view_name": "HBoxView",
            "box_style": "",
            "children": [
              "IPY_MODEL_60ea731bdd7f455abc68116bcff8612a",
              "IPY_MODEL_c40f297d54c14d93b4a55ef93f0ff925",
              "IPY_MODEL_c8ba4faf8a744e6ba1287014ead3c42f"
            ],
            "layout": "IPY_MODEL_2d83a6cd8e6349a6980499e2191dd17f"
          }
        },
        "60ea731bdd7f455abc68116bcff8612a": {
          "model_module": "@jupyter-widgets/controls",
          "model_name": "HTMLModel",
          "model_module_version": "1.5.0",
          "state": {
            "_dom_classes": [],
            "_model_module": "@jupyter-widgets/controls",
            "_model_module_version": "1.5.0",
            "_model_name": "HTMLModel",
            "_view_count": null,
            "_view_module": "@jupyter-widgets/controls",
            "_view_module_version": "1.5.0",
            "_view_name": "HTMLView",
            "description": "",
            "description_tooltip": null,
            "layout": "IPY_MODEL_bb8cbb377a024c73ad5215fc88334a36",
            "placeholder": "​",
            "style": "IPY_MODEL_781a6020e835474d87fd1b8187d699f8",
            "value": "Downloading tokenizer_config.json: 100%"
          }
        },
        "c40f297d54c14d93b4a55ef93f0ff925": {
          "model_module": "@jupyter-widgets/controls",
          "model_name": "FloatProgressModel",
          "model_module_version": "1.5.0",
          "state": {
            "_dom_classes": [],
            "_model_module": "@jupyter-widgets/controls",
            "_model_module_version": "1.5.0",
            "_model_name": "FloatProgressModel",
            "_view_count": null,
            "_view_module": "@jupyter-widgets/controls",
            "_view_module_version": "1.5.0",
            "_view_name": "ProgressView",
            "bar_style": "success",
            "description": "",
            "description_tooltip": null,
            "layout": "IPY_MODEL_378ba4c05e944aa0ae64c92218263fe7",
            "max": 28,
            "min": 0,
            "orientation": "horizontal",
            "style": "IPY_MODEL_06daf0333f6749e59668b25f432ab4ee",
            "value": 28
          }
        },
        "c8ba4faf8a744e6ba1287014ead3c42f": {
          "model_module": "@jupyter-widgets/controls",
          "model_name": "HTMLModel",
          "model_module_version": "1.5.0",
          "state": {
            "_dom_classes": [],
            "_model_module": "@jupyter-widgets/controls",
            "_model_module_version": "1.5.0",
            "_model_name": "HTMLModel",
            "_view_count": null,
            "_view_module": "@jupyter-widgets/controls",
            "_view_module_version": "1.5.0",
            "_view_name": "HTMLView",
            "description": "",
            "description_tooltip": null,
            "layout": "IPY_MODEL_417baff1551040d4b3c1bdb2cdc1b7d1",
            "placeholder": "​",
            "style": "IPY_MODEL_6e119665bbb548e884821e4068ba0af0",
            "value": " 28.0/28.0 [00:00&lt;00:00, 850B/s]"
          }
        },
        "2d83a6cd8e6349a6980499e2191dd17f": {
          "model_module": "@jupyter-widgets/base",
          "model_name": "LayoutModel",
          "model_module_version": "1.2.0",
          "state": {
            "_model_module": "@jupyter-widgets/base",
            "_model_module_version": "1.2.0",
            "_model_name": "LayoutModel",
            "_view_count": null,
            "_view_module": "@jupyter-widgets/base",
            "_view_module_version": "1.2.0",
            "_view_name": "LayoutView",
            "align_content": null,
            "align_items": null,
            "align_self": null,
            "border": null,
            "bottom": null,
            "display": null,
            "flex": null,
            "flex_flow": null,
            "grid_area": null,
            "grid_auto_columns": null,
            "grid_auto_flow": null,
            "grid_auto_rows": null,
            "grid_column": null,
            "grid_gap": null,
            "grid_row": null,
            "grid_template_areas": null,
            "grid_template_columns": null,
            "grid_template_rows": null,
            "height": null,
            "justify_content": null,
            "justify_items": null,
            "left": null,
            "margin": null,
            "max_height": null,
            "max_width": null,
            "min_height": null,
            "min_width": null,
            "object_fit": null,
            "object_position": null,
            "order": null,
            "overflow": null,
            "overflow_x": null,
            "overflow_y": null,
            "padding": null,
            "right": null,
            "top": null,
            "visibility": null,
            "width": null
          }
        },
        "bb8cbb377a024c73ad5215fc88334a36": {
          "model_module": "@jupyter-widgets/base",
          "model_name": "LayoutModel",
          "model_module_version": "1.2.0",
          "state": {
            "_model_module": "@jupyter-widgets/base",
            "_model_module_version": "1.2.0",
            "_model_name": "LayoutModel",
            "_view_count": null,
            "_view_module": "@jupyter-widgets/base",
            "_view_module_version": "1.2.0",
            "_view_name": "LayoutView",
            "align_content": null,
            "align_items": null,
            "align_self": null,
            "border": null,
            "bottom": null,
            "display": null,
            "flex": null,
            "flex_flow": null,
            "grid_area": null,
            "grid_auto_columns": null,
            "grid_auto_flow": null,
            "grid_auto_rows": null,
            "grid_column": null,
            "grid_gap": null,
            "grid_row": null,
            "grid_template_areas": null,
            "grid_template_columns": null,
            "grid_template_rows": null,
            "height": null,
            "justify_content": null,
            "justify_items": null,
            "left": null,
            "margin": null,
            "max_height": null,
            "max_width": null,
            "min_height": null,
            "min_width": null,
            "object_fit": null,
            "object_position": null,
            "order": null,
            "overflow": null,
            "overflow_x": null,
            "overflow_y": null,
            "padding": null,
            "right": null,
            "top": null,
            "visibility": null,
            "width": null
          }
        },
        "781a6020e835474d87fd1b8187d699f8": {
          "model_module": "@jupyter-widgets/controls",
          "model_name": "DescriptionStyleModel",
          "model_module_version": "1.5.0",
          "state": {
            "_model_module": "@jupyter-widgets/controls",
            "_model_module_version": "1.5.0",
            "_model_name": "DescriptionStyleModel",
            "_view_count": null,
            "_view_module": "@jupyter-widgets/base",
            "_view_module_version": "1.2.0",
            "_view_name": "StyleView",
            "description_width": ""
          }
        },
        "378ba4c05e944aa0ae64c92218263fe7": {
          "model_module": "@jupyter-widgets/base",
          "model_name": "LayoutModel",
          "model_module_version": "1.2.0",
          "state": {
            "_model_module": "@jupyter-widgets/base",
            "_model_module_version": "1.2.0",
            "_model_name": "LayoutModel",
            "_view_count": null,
            "_view_module": "@jupyter-widgets/base",
            "_view_module_version": "1.2.0",
            "_view_name": "LayoutView",
            "align_content": null,
            "align_items": null,
            "align_self": null,
            "border": null,
            "bottom": null,
            "display": null,
            "flex": null,
            "flex_flow": null,
            "grid_area": null,
            "grid_auto_columns": null,
            "grid_auto_flow": null,
            "grid_auto_rows": null,
            "grid_column": null,
            "grid_gap": null,
            "grid_row": null,
            "grid_template_areas": null,
            "grid_template_columns": null,
            "grid_template_rows": null,
            "height": null,
            "justify_content": null,
            "justify_items": null,
            "left": null,
            "margin": null,
            "max_height": null,
            "max_width": null,
            "min_height": null,
            "min_width": null,
            "object_fit": null,
            "object_position": null,
            "order": null,
            "overflow": null,
            "overflow_x": null,
            "overflow_y": null,
            "padding": null,
            "right": null,
            "top": null,
            "visibility": null,
            "width": null
          }
        },
        "06daf0333f6749e59668b25f432ab4ee": {
          "model_module": "@jupyter-widgets/controls",
          "model_name": "ProgressStyleModel",
          "model_module_version": "1.5.0",
          "state": {
            "_model_module": "@jupyter-widgets/controls",
            "_model_module_version": "1.5.0",
            "_model_name": "ProgressStyleModel",
            "_view_count": null,
            "_view_module": "@jupyter-widgets/base",
            "_view_module_version": "1.2.0",
            "_view_name": "StyleView",
            "bar_color": null,
            "description_width": ""
          }
        },
        "417baff1551040d4b3c1bdb2cdc1b7d1": {
          "model_module": "@jupyter-widgets/base",
          "model_name": "LayoutModel",
          "model_module_version": "1.2.0",
          "state": {
            "_model_module": "@jupyter-widgets/base",
            "_model_module_version": "1.2.0",
            "_model_name": "LayoutModel",
            "_view_count": null,
            "_view_module": "@jupyter-widgets/base",
            "_view_module_version": "1.2.0",
            "_view_name": "LayoutView",
            "align_content": null,
            "align_items": null,
            "align_self": null,
            "border": null,
            "bottom": null,
            "display": null,
            "flex": null,
            "flex_flow": null,
            "grid_area": null,
            "grid_auto_columns": null,
            "grid_auto_flow": null,
            "grid_auto_rows": null,
            "grid_column": null,
            "grid_gap": null,
            "grid_row": null,
            "grid_template_areas": null,
            "grid_template_columns": null,
            "grid_template_rows": null,
            "height": null,
            "justify_content": null,
            "justify_items": null,
            "left": null,
            "margin": null,
            "max_height": null,
            "max_width": null,
            "min_height": null,
            "min_width": null,
            "object_fit": null,
            "object_position": null,
            "order": null,
            "overflow": null,
            "overflow_x": null,
            "overflow_y": null,
            "padding": null,
            "right": null,
            "top": null,
            "visibility": null,
            "width": null
          }
        },
        "6e119665bbb548e884821e4068ba0af0": {
          "model_module": "@jupyter-widgets/controls",
          "model_name": "DescriptionStyleModel",
          "model_module_version": "1.5.0",
          "state": {
            "_model_module": "@jupyter-widgets/controls",
            "_model_module_version": "1.5.0",
            "_model_name": "DescriptionStyleModel",
            "_view_count": null,
            "_view_module": "@jupyter-widgets/base",
            "_view_module_version": "1.2.0",
            "_view_name": "StyleView",
            "description_width": ""
          }
        },
        "a0551e3262a14eb0b067ba830a58242e": {
          "model_module": "@jupyter-widgets/controls",
          "model_name": "HBoxModel",
          "model_module_version": "1.5.0",
          "state": {
            "_dom_classes": [],
            "_model_module": "@jupyter-widgets/controls",
            "_model_module_version": "1.5.0",
            "_model_name": "HBoxModel",
            "_view_count": null,
            "_view_module": "@jupyter-widgets/controls",
            "_view_module_version": "1.5.0",
            "_view_name": "HBoxView",
            "box_style": "",
            "children": [
              "IPY_MODEL_496fc86067844b1d8e1752fddc274166",
              "IPY_MODEL_ec8d6d34dbe741c380c7b86eeed74e29",
              "IPY_MODEL_96e0eae2336745909ea15883511d9099"
            ],
            "layout": "IPY_MODEL_4f2642752faf40c4b466fbf512e40a6c"
          }
        },
        "496fc86067844b1d8e1752fddc274166": {
          "model_module": "@jupyter-widgets/controls",
          "model_name": "HTMLModel",
          "model_module_version": "1.5.0",
          "state": {
            "_dom_classes": [],
            "_model_module": "@jupyter-widgets/controls",
            "_model_module_version": "1.5.0",
            "_model_name": "HTMLModel",
            "_view_count": null,
            "_view_module": "@jupyter-widgets/controls",
            "_view_module_version": "1.5.0",
            "_view_name": "HTMLView",
            "description": "",
            "description_tooltip": null,
            "layout": "IPY_MODEL_2872331accdd47d4af5758a2c31788ee",
            "placeholder": "​",
            "style": "IPY_MODEL_7915954e4aac4133b70ef7cb70dbd355",
            "value": "Downloading config.json: 100%"
          }
        },
        "ec8d6d34dbe741c380c7b86eeed74e29": {
          "model_module": "@jupyter-widgets/controls",
          "model_name": "FloatProgressModel",
          "model_module_version": "1.5.0",
          "state": {
            "_dom_classes": [],
            "_model_module": "@jupyter-widgets/controls",
            "_model_module_version": "1.5.0",
            "_model_name": "FloatProgressModel",
            "_view_count": null,
            "_view_module": "@jupyter-widgets/controls",
            "_view_module_version": "1.5.0",
            "_view_name": "ProgressView",
            "bar_style": "success",
            "description": "",
            "description_tooltip": null,
            "layout": "IPY_MODEL_94e768fcd01b481e8cbef5089da979f8",
            "max": 483,
            "min": 0,
            "orientation": "horizontal",
            "style": "IPY_MODEL_b67c7cd74cf748db8d7a66e2c7d279a2",
            "value": 483
          }
        },
        "96e0eae2336745909ea15883511d9099": {
          "model_module": "@jupyter-widgets/controls",
          "model_name": "HTMLModel",
          "model_module_version": "1.5.0",
          "state": {
            "_dom_classes": [],
            "_model_module": "@jupyter-widgets/controls",
            "_model_module_version": "1.5.0",
            "_model_name": "HTMLModel",
            "_view_count": null,
            "_view_module": "@jupyter-widgets/controls",
            "_view_module_version": "1.5.0",
            "_view_name": "HTMLView",
            "description": "",
            "description_tooltip": null,
            "layout": "IPY_MODEL_03b53ef300da44e5a782d98532d6ca3f",
            "placeholder": "​",
            "style": "IPY_MODEL_f504f90c2f20446b8e0a3eb067dffbf5",
            "value": " 483/483 [00:00&lt;00:00, 15.1kB/s]"
          }
        },
        "4f2642752faf40c4b466fbf512e40a6c": {
          "model_module": "@jupyter-widgets/base",
          "model_name": "LayoutModel",
          "model_module_version": "1.2.0",
          "state": {
            "_model_module": "@jupyter-widgets/base",
            "_model_module_version": "1.2.0",
            "_model_name": "LayoutModel",
            "_view_count": null,
            "_view_module": "@jupyter-widgets/base",
            "_view_module_version": "1.2.0",
            "_view_name": "LayoutView",
            "align_content": null,
            "align_items": null,
            "align_self": null,
            "border": null,
            "bottom": null,
            "display": null,
            "flex": null,
            "flex_flow": null,
            "grid_area": null,
            "grid_auto_columns": null,
            "grid_auto_flow": null,
            "grid_auto_rows": null,
            "grid_column": null,
            "grid_gap": null,
            "grid_row": null,
            "grid_template_areas": null,
            "grid_template_columns": null,
            "grid_template_rows": null,
            "height": null,
            "justify_content": null,
            "justify_items": null,
            "left": null,
            "margin": null,
            "max_height": null,
            "max_width": null,
            "min_height": null,
            "min_width": null,
            "object_fit": null,
            "object_position": null,
            "order": null,
            "overflow": null,
            "overflow_x": null,
            "overflow_y": null,
            "padding": null,
            "right": null,
            "top": null,
            "visibility": null,
            "width": null
          }
        },
        "2872331accdd47d4af5758a2c31788ee": {
          "model_module": "@jupyter-widgets/base",
          "model_name": "LayoutModel",
          "model_module_version": "1.2.0",
          "state": {
            "_model_module": "@jupyter-widgets/base",
            "_model_module_version": "1.2.0",
            "_model_name": "LayoutModel",
            "_view_count": null,
            "_view_module": "@jupyter-widgets/base",
            "_view_module_version": "1.2.0",
            "_view_name": "LayoutView",
            "align_content": null,
            "align_items": null,
            "align_self": null,
            "border": null,
            "bottom": null,
            "display": null,
            "flex": null,
            "flex_flow": null,
            "grid_area": null,
            "grid_auto_columns": null,
            "grid_auto_flow": null,
            "grid_auto_rows": null,
            "grid_column": null,
            "grid_gap": null,
            "grid_row": null,
            "grid_template_areas": null,
            "grid_template_columns": null,
            "grid_template_rows": null,
            "height": null,
            "justify_content": null,
            "justify_items": null,
            "left": null,
            "margin": null,
            "max_height": null,
            "max_width": null,
            "min_height": null,
            "min_width": null,
            "object_fit": null,
            "object_position": null,
            "order": null,
            "overflow": null,
            "overflow_x": null,
            "overflow_y": null,
            "padding": null,
            "right": null,
            "top": null,
            "visibility": null,
            "width": null
          }
        },
        "7915954e4aac4133b70ef7cb70dbd355": {
          "model_module": "@jupyter-widgets/controls",
          "model_name": "DescriptionStyleModel",
          "model_module_version": "1.5.0",
          "state": {
            "_model_module": "@jupyter-widgets/controls",
            "_model_module_version": "1.5.0",
            "_model_name": "DescriptionStyleModel",
            "_view_count": null,
            "_view_module": "@jupyter-widgets/base",
            "_view_module_version": "1.2.0",
            "_view_name": "StyleView",
            "description_width": ""
          }
        },
        "94e768fcd01b481e8cbef5089da979f8": {
          "model_module": "@jupyter-widgets/base",
          "model_name": "LayoutModel",
          "model_module_version": "1.2.0",
          "state": {
            "_model_module": "@jupyter-widgets/base",
            "_model_module_version": "1.2.0",
            "_model_name": "LayoutModel",
            "_view_count": null,
            "_view_module": "@jupyter-widgets/base",
            "_view_module_version": "1.2.0",
            "_view_name": "LayoutView",
            "align_content": null,
            "align_items": null,
            "align_self": null,
            "border": null,
            "bottom": null,
            "display": null,
            "flex": null,
            "flex_flow": null,
            "grid_area": null,
            "grid_auto_columns": null,
            "grid_auto_flow": null,
            "grid_auto_rows": null,
            "grid_column": null,
            "grid_gap": null,
            "grid_row": null,
            "grid_template_areas": null,
            "grid_template_columns": null,
            "grid_template_rows": null,
            "height": null,
            "justify_content": null,
            "justify_items": null,
            "left": null,
            "margin": null,
            "max_height": null,
            "max_width": null,
            "min_height": null,
            "min_width": null,
            "object_fit": null,
            "object_position": null,
            "order": null,
            "overflow": null,
            "overflow_x": null,
            "overflow_y": null,
            "padding": null,
            "right": null,
            "top": null,
            "visibility": null,
            "width": null
          }
        },
        "b67c7cd74cf748db8d7a66e2c7d279a2": {
          "model_module": "@jupyter-widgets/controls",
          "model_name": "ProgressStyleModel",
          "model_module_version": "1.5.0",
          "state": {
            "_model_module": "@jupyter-widgets/controls",
            "_model_module_version": "1.5.0",
            "_model_name": "ProgressStyleModel",
            "_view_count": null,
            "_view_module": "@jupyter-widgets/base",
            "_view_module_version": "1.2.0",
            "_view_name": "StyleView",
            "bar_color": null,
            "description_width": ""
          }
        },
        "03b53ef300da44e5a782d98532d6ca3f": {
          "model_module": "@jupyter-widgets/base",
          "model_name": "LayoutModel",
          "model_module_version": "1.2.0",
          "state": {
            "_model_module": "@jupyter-widgets/base",
            "_model_module_version": "1.2.0",
            "_model_name": "LayoutModel",
            "_view_count": null,
            "_view_module": "@jupyter-widgets/base",
            "_view_module_version": "1.2.0",
            "_view_name": "LayoutView",
            "align_content": null,
            "align_items": null,
            "align_self": null,
            "border": null,
            "bottom": null,
            "display": null,
            "flex": null,
            "flex_flow": null,
            "grid_area": null,
            "grid_auto_columns": null,
            "grid_auto_flow": null,
            "grid_auto_rows": null,
            "grid_column": null,
            "grid_gap": null,
            "grid_row": null,
            "grid_template_areas": null,
            "grid_template_columns": null,
            "grid_template_rows": null,
            "height": null,
            "justify_content": null,
            "justify_items": null,
            "left": null,
            "margin": null,
            "max_height": null,
            "max_width": null,
            "min_height": null,
            "min_width": null,
            "object_fit": null,
            "object_position": null,
            "order": null,
            "overflow": null,
            "overflow_x": null,
            "overflow_y": null,
            "padding": null,
            "right": null,
            "top": null,
            "visibility": null,
            "width": null
          }
        },
        "f504f90c2f20446b8e0a3eb067dffbf5": {
          "model_module": "@jupyter-widgets/controls",
          "model_name": "DescriptionStyleModel",
          "model_module_version": "1.5.0",
          "state": {
            "_model_module": "@jupyter-widgets/controls",
            "_model_module_version": "1.5.0",
            "_model_name": "DescriptionStyleModel",
            "_view_count": null,
            "_view_module": "@jupyter-widgets/base",
            "_view_module_version": "1.2.0",
            "_view_name": "StyleView",
            "description_width": ""
          }
        },
        "220eefe07f874d34a371e3a0dfd50a2d": {
          "model_module": "@jupyter-widgets/controls",
          "model_name": "HBoxModel",
          "model_module_version": "1.5.0",
          "state": {
            "_dom_classes": [],
            "_model_module": "@jupyter-widgets/controls",
            "_model_module_version": "1.5.0",
            "_model_name": "HBoxModel",
            "_view_count": null,
            "_view_module": "@jupyter-widgets/controls",
            "_view_module_version": "1.5.0",
            "_view_name": "HBoxView",
            "box_style": "",
            "children": [
              "IPY_MODEL_56389a4847d64d8491e496c99ee83747",
              "IPY_MODEL_83b61681c4db437a83b90c2e65f29012",
              "IPY_MODEL_357d8187728741a892525e047793d8e1"
            ],
            "layout": "IPY_MODEL_5337804ee5f64e208b4279fea9c52348"
          }
        },
        "56389a4847d64d8491e496c99ee83747": {
          "model_module": "@jupyter-widgets/controls",
          "model_name": "HTMLModel",
          "model_module_version": "1.5.0",
          "state": {
            "_dom_classes": [],
            "_model_module": "@jupyter-widgets/controls",
            "_model_module_version": "1.5.0",
            "_model_name": "HTMLModel",
            "_view_count": null,
            "_view_module": "@jupyter-widgets/controls",
            "_view_module_version": "1.5.0",
            "_view_name": "HTMLView",
            "description": "",
            "description_tooltip": null,
            "layout": "IPY_MODEL_bf1b6e6aaa63446a8ae40737c30bf25c",
            "placeholder": "​",
            "style": "IPY_MODEL_991f11c9e27d4e489c15eb0b5c590cfd",
            "value": "Downloading tf_model.h5: 100%"
          }
        },
        "83b61681c4db437a83b90c2e65f29012": {
          "model_module": "@jupyter-widgets/controls",
          "model_name": "FloatProgressModel",
          "model_module_version": "1.5.0",
          "state": {
            "_dom_classes": [],
            "_model_module": "@jupyter-widgets/controls",
            "_model_module_version": "1.5.0",
            "_model_name": "FloatProgressModel",
            "_view_count": null,
            "_view_module": "@jupyter-widgets/controls",
            "_view_module_version": "1.5.0",
            "_view_name": "ProgressView",
            "bar_style": "success",
            "description": "",
            "description_tooltip": null,
            "layout": "IPY_MODEL_443a13638d064817a5c6441a57b489b3",
            "max": 363423424,
            "min": 0,
            "orientation": "horizontal",
            "style": "IPY_MODEL_c82dd0d5574d4c5cbeaf011013de1081",
            "value": 363423424
          }
        },
        "357d8187728741a892525e047793d8e1": {
          "model_module": "@jupyter-widgets/controls",
          "model_name": "HTMLModel",
          "model_module_version": "1.5.0",
          "state": {
            "_dom_classes": [],
            "_model_module": "@jupyter-widgets/controls",
            "_model_module_version": "1.5.0",
            "_model_name": "HTMLModel",
            "_view_count": null,
            "_view_module": "@jupyter-widgets/controls",
            "_view_module_version": "1.5.0",
            "_view_name": "HTMLView",
            "description": "",
            "description_tooltip": null,
            "layout": "IPY_MODEL_c02afeee641b4eceb55ef3e38f1d2e09",
            "placeholder": "​",
            "style": "IPY_MODEL_7851cbe95ac04709a18cb8d7f7acae01",
            "value": " 347M/347M [00:06&lt;00:00, 57.4MB/s]"
          }
        },
        "5337804ee5f64e208b4279fea9c52348": {
          "model_module": "@jupyter-widgets/base",
          "model_name": "LayoutModel",
          "model_module_version": "1.2.0",
          "state": {
            "_model_module": "@jupyter-widgets/base",
            "_model_module_version": "1.2.0",
            "_model_name": "LayoutModel",
            "_view_count": null,
            "_view_module": "@jupyter-widgets/base",
            "_view_module_version": "1.2.0",
            "_view_name": "LayoutView",
            "align_content": null,
            "align_items": null,
            "align_self": null,
            "border": null,
            "bottom": null,
            "display": null,
            "flex": null,
            "flex_flow": null,
            "grid_area": null,
            "grid_auto_columns": null,
            "grid_auto_flow": null,
            "grid_auto_rows": null,
            "grid_column": null,
            "grid_gap": null,
            "grid_row": null,
            "grid_template_areas": null,
            "grid_template_columns": null,
            "grid_template_rows": null,
            "height": null,
            "justify_content": null,
            "justify_items": null,
            "left": null,
            "margin": null,
            "max_height": null,
            "max_width": null,
            "min_height": null,
            "min_width": null,
            "object_fit": null,
            "object_position": null,
            "order": null,
            "overflow": null,
            "overflow_x": null,
            "overflow_y": null,
            "padding": null,
            "right": null,
            "top": null,
            "visibility": null,
            "width": null
          }
        },
        "bf1b6e6aaa63446a8ae40737c30bf25c": {
          "model_module": "@jupyter-widgets/base",
          "model_name": "LayoutModel",
          "model_module_version": "1.2.0",
          "state": {
            "_model_module": "@jupyter-widgets/base",
            "_model_module_version": "1.2.0",
            "_model_name": "LayoutModel",
            "_view_count": null,
            "_view_module": "@jupyter-widgets/base",
            "_view_module_version": "1.2.0",
            "_view_name": "LayoutView",
            "align_content": null,
            "align_items": null,
            "align_self": null,
            "border": null,
            "bottom": null,
            "display": null,
            "flex": null,
            "flex_flow": null,
            "grid_area": null,
            "grid_auto_columns": null,
            "grid_auto_flow": null,
            "grid_auto_rows": null,
            "grid_column": null,
            "grid_gap": null,
            "grid_row": null,
            "grid_template_areas": null,
            "grid_template_columns": null,
            "grid_template_rows": null,
            "height": null,
            "justify_content": null,
            "justify_items": null,
            "left": null,
            "margin": null,
            "max_height": null,
            "max_width": null,
            "min_height": null,
            "min_width": null,
            "object_fit": null,
            "object_position": null,
            "order": null,
            "overflow": null,
            "overflow_x": null,
            "overflow_y": null,
            "padding": null,
            "right": null,
            "top": null,
            "visibility": null,
            "width": null
          }
        },
        "991f11c9e27d4e489c15eb0b5c590cfd": {
          "model_module": "@jupyter-widgets/controls",
          "model_name": "DescriptionStyleModel",
          "model_module_version": "1.5.0",
          "state": {
            "_model_module": "@jupyter-widgets/controls",
            "_model_module_version": "1.5.0",
            "_model_name": "DescriptionStyleModel",
            "_view_count": null,
            "_view_module": "@jupyter-widgets/base",
            "_view_module_version": "1.2.0",
            "_view_name": "StyleView",
            "description_width": ""
          }
        },
        "443a13638d064817a5c6441a57b489b3": {
          "model_module": "@jupyter-widgets/base",
          "model_name": "LayoutModel",
          "model_module_version": "1.2.0",
          "state": {
            "_model_module": "@jupyter-widgets/base",
            "_model_module_version": "1.2.0",
            "_model_name": "LayoutModel",
            "_view_count": null,
            "_view_module": "@jupyter-widgets/base",
            "_view_module_version": "1.2.0",
            "_view_name": "LayoutView",
            "align_content": null,
            "align_items": null,
            "align_self": null,
            "border": null,
            "bottom": null,
            "display": null,
            "flex": null,
            "flex_flow": null,
            "grid_area": null,
            "grid_auto_columns": null,
            "grid_auto_flow": null,
            "grid_auto_rows": null,
            "grid_column": null,
            "grid_gap": null,
            "grid_row": null,
            "grid_template_areas": null,
            "grid_template_columns": null,
            "grid_template_rows": null,
            "height": null,
            "justify_content": null,
            "justify_items": null,
            "left": null,
            "margin": null,
            "max_height": null,
            "max_width": null,
            "min_height": null,
            "min_width": null,
            "object_fit": null,
            "object_position": null,
            "order": null,
            "overflow": null,
            "overflow_x": null,
            "overflow_y": null,
            "padding": null,
            "right": null,
            "top": null,
            "visibility": null,
            "width": null
          }
        },
        "c82dd0d5574d4c5cbeaf011013de1081": {
          "model_module": "@jupyter-widgets/controls",
          "model_name": "ProgressStyleModel",
          "model_module_version": "1.5.0",
          "state": {
            "_model_module": "@jupyter-widgets/controls",
            "_model_module_version": "1.5.0",
            "_model_name": "ProgressStyleModel",
            "_view_count": null,
            "_view_module": "@jupyter-widgets/base",
            "_view_module_version": "1.2.0",
            "_view_name": "StyleView",
            "bar_color": null,
            "description_width": ""
          }
        },
        "c02afeee641b4eceb55ef3e38f1d2e09": {
          "model_module": "@jupyter-widgets/base",
          "model_name": "LayoutModel",
          "model_module_version": "1.2.0",
          "state": {
            "_model_module": "@jupyter-widgets/base",
            "_model_module_version": "1.2.0",
            "_model_name": "LayoutModel",
            "_view_count": null,
            "_view_module": "@jupyter-widgets/base",
            "_view_module_version": "1.2.0",
            "_view_name": "LayoutView",
            "align_content": null,
            "align_items": null,
            "align_self": null,
            "border": null,
            "bottom": null,
            "display": null,
            "flex": null,
            "flex_flow": null,
            "grid_area": null,
            "grid_auto_columns": null,
            "grid_auto_flow": null,
            "grid_auto_rows": null,
            "grid_column": null,
            "grid_gap": null,
            "grid_row": null,
            "grid_template_areas": null,
            "grid_template_columns": null,
            "grid_template_rows": null,
            "height": null,
            "justify_content": null,
            "justify_items": null,
            "left": null,
            "margin": null,
            "max_height": null,
            "max_width": null,
            "min_height": null,
            "min_width": null,
            "object_fit": null,
            "object_position": null,
            "order": null,
            "overflow": null,
            "overflow_x": null,
            "overflow_y": null,
            "padding": null,
            "right": null,
            "top": null,
            "visibility": null,
            "width": null
          }
        },
        "7851cbe95ac04709a18cb8d7f7acae01": {
          "model_module": "@jupyter-widgets/controls",
          "model_name": "DescriptionStyleModel",
          "model_module_version": "1.5.0",
          "state": {
            "_model_module": "@jupyter-widgets/controls",
            "_model_module_version": "1.5.0",
            "_model_name": "DescriptionStyleModel",
            "_view_count": null,
            "_view_module": "@jupyter-widgets/base",
            "_view_module_version": "1.2.0",
            "_view_name": "StyleView",
            "description_width": ""
          }
        }
      }
    }
  },
  "nbformat": 4,
  "nbformat_minor": 0
}